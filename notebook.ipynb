{
 "cells": [
  {
   "cell_type": "code",
   "metadata": {
    "tags": [],
    "cell_id": "8c3fc4c1-e045-41fd-9fa9-4068b4b87a78",
    "deepnote_to_be_reexecuted": false,
    "source_hash": "1feaac03",
    "execution_start": 1651670551485,
    "execution_millis": 0,
    "deepnote_cell_type": "code",
    "deepnote_cell_height": 99
   },
   "source": "import numpy as np # mostly used for array computing and for advanced mathematical functions.\nimport pandas as pd # imports pandas package, aliases as pd",
   "execution_count": 1,
   "outputs": []
  },
  {
   "cell_type": "markdown",
   "source": "## Exploratory Data Analytics\n###### Data exploration is one of the key tasks a data analyst performs\n",
   "metadata": {
    "cell_id": "40532255b1564a3e84b56377ea6ea290",
    "tags": [],
    "deepnote_cell_type": "markdown",
    "deepnote_cell_height": 108.390625
   }
  },
  {
   "cell_type": "code",
   "metadata": {
    "cell_id": "c74c177951134fe88b3996685b539983",
    "tags": [],
    "deepnote_to_be_reexecuted": false,
    "source_hash": "140132c5",
    "execution_start": 1651670551526,
    "execution_millis": 458,
    "deepnote_cell_type": "code",
    "deepnote_cell_height": 633
   },
   "source": "df = pd.read_csv('insurance.csv')\ndf",
   "execution_count": 2,
   "outputs": [
    {
     "output_type": "execute_result",
     "execution_count": 2,
     "data": {
      "application/vnd.deepnote.dataframe.v3+json": {
       "column_count": 7,
       "row_count": 1338,
       "columns": [
        {
         "name": "age",
         "dtype": "int64",
         "stats": {
          "unique_count": 47,
          "nan_count": 0,
          "min": "18",
          "max": "64",
          "histogram": [
           {
            "bin_start": 18,
            "bin_end": 22.6,
            "count": 222
           },
           {
            "bin_start": 22.6,
            "bin_end": 27.2,
            "count": 140
           },
           {
            "bin_start": 27.2,
            "bin_end": 31.799999999999997,
            "count": 109
           },
           {
            "bin_start": 31.799999999999997,
            "bin_end": 36.4,
            "count": 128
           },
           {
            "bin_start": 36.4,
            "bin_end": 41,
            "count": 102
           },
           {
            "bin_start": 41,
            "bin_end": 45.599999999999994,
            "count": 137
           },
           {
            "bin_start": 45.599999999999994,
            "bin_end": 50.199999999999996,
            "count": 144
           },
           {
            "bin_start": 50.199999999999996,
            "bin_end": 54.8,
            "count": 114
           },
           {
            "bin_start": 54.8,
            "bin_end": 59.4,
            "count": 128
           },
           {
            "bin_start": 59.4,
            "bin_end": 64,
            "count": 114
           }
          ]
         }
        },
        {
         "name": "sex",
         "dtype": "object",
         "stats": {
          "unique_count": 2,
          "nan_count": 0,
          "categories": [
           {
            "name": "male",
            "count": 676
           },
           {
            "name": "female",
            "count": 662
           }
          ]
         }
        },
        {
         "name": "bmi",
         "dtype": "float64",
         "stats": {
          "unique_count": 548,
          "nan_count": 0,
          "min": "15.96",
          "max": "53.13",
          "histogram": [
           {
            "bin_start": 15.96,
            "bin_end": 19.677,
            "count": 30
           },
           {
            "bin_start": 19.677,
            "bin_end": 23.394000000000002,
            "count": 127
           },
           {
            "bin_start": 23.394000000000002,
            "bin_end": 27.111,
            "count": 234
           },
           {
            "bin_start": 27.111,
            "bin_end": 30.828000000000003,
            "count": 319
           },
           {
            "bin_start": 30.828000000000003,
            "bin_end": 34.545,
            "count": 288
           },
           {
            "bin_start": 34.545,
            "bin_end": 38.262,
            "count": 195
           },
           {
            "bin_start": 38.262,
            "bin_end": 41.979,
            "count": 96
           },
           {
            "bin_start": 41.979,
            "bin_end": 45.696,
            "count": 32
           },
           {
            "bin_start": 45.696,
            "bin_end": 49.413000000000004,
            "count": 14
           },
           {
            "bin_start": 49.413000000000004,
            "bin_end": 53.13,
            "count": 3
           }
          ]
         }
        },
        {
         "name": "children",
         "dtype": "int64",
         "stats": {
          "unique_count": 6,
          "nan_count": 0,
          "min": "0",
          "max": "5",
          "histogram": [
           {
            "bin_start": 0,
            "bin_end": 0.5,
            "count": 574
           },
           {
            "bin_start": 0.5,
            "bin_end": 1,
            "count": 0
           },
           {
            "bin_start": 1,
            "bin_end": 1.5,
            "count": 324
           },
           {
            "bin_start": 1.5,
            "bin_end": 2,
            "count": 0
           },
           {
            "bin_start": 2,
            "bin_end": 2.5,
            "count": 240
           },
           {
            "bin_start": 2.5,
            "bin_end": 3,
            "count": 0
           },
           {
            "bin_start": 3,
            "bin_end": 3.5,
            "count": 157
           },
           {
            "bin_start": 3.5,
            "bin_end": 4,
            "count": 0
           },
           {
            "bin_start": 4,
            "bin_end": 4.5,
            "count": 25
           },
           {
            "bin_start": 4.5,
            "bin_end": 5,
            "count": 18
           }
          ]
         }
        },
        {
         "name": "smoker",
         "dtype": "object",
         "stats": {
          "unique_count": 2,
          "nan_count": 0,
          "categories": [
           {
            "name": "no",
            "count": 1064
           },
           {
            "name": "yes",
            "count": 274
           }
          ]
         }
        },
        {
         "name": "region",
         "dtype": "object",
         "stats": {
          "unique_count": 4,
          "nan_count": 0,
          "categories": [
           {
            "name": "southeast",
            "count": 364
           },
           {
            "name": "southwest",
            "count": 325
           },
           {
            "name": "2 others",
            "count": 649
           }
          ]
         }
        },
        {
         "name": "charges",
         "dtype": "float64",
         "stats": {
          "unique_count": 1337,
          "nan_count": 0,
          "min": "1121.8739",
          "max": "63770.42801",
          "histogram": [
           {
            "bin_start": 1121.8739,
            "bin_end": 7386.729311000001,
            "count": 536
           },
           {
            "bin_start": 7386.729311000001,
            "bin_end": 13651.584722000001,
            "count": 398
           },
           {
            "bin_start": 13651.584722000001,
            "bin_end": 19916.440133,
            "count": 129
           },
           {
            "bin_start": 19916.440133,
            "bin_end": 26181.295544,
            "count": 86
           },
           {
            "bin_start": 26181.295544,
            "bin_end": 32446.150955,
            "count": 35
           },
           {
            "bin_start": 32446.150955,
            "bin_end": 38711.006366,
            "count": 59
           },
           {
            "bin_start": 38711.006366,
            "bin_end": 44975.861777000006,
            "count": 57
           },
           {
            "bin_start": 44975.861777000006,
            "bin_end": 51240.717188,
            "count": 32
           },
           {
            "bin_start": 51240.717188,
            "bin_end": 57505.572599,
            "count": 2
           },
           {
            "bin_start": 57505.572599,
            "bin_end": 63770.42801,
            "count": 4
           }
          ]
         }
        },
        {
         "name": "_deepnote_index_column",
         "dtype": "int64"
        }
       ],
       "rows": [
        {
         "age": 19,
         "sex": "female",
         "bmi": 27.9,
         "children": 0,
         "smoker": "yes",
         "region": "southwest",
         "charges": 16884.924,
         "_deepnote_index_column": 0
        },
        {
         "age": 18,
         "sex": "male",
         "bmi": 33.77,
         "children": 1,
         "smoker": "no",
         "region": "southeast",
         "charges": 1725.5523,
         "_deepnote_index_column": 1
        },
        {
         "age": 28,
         "sex": "male",
         "bmi": 33,
         "children": 3,
         "smoker": "no",
         "region": "southeast",
         "charges": 4449.462,
         "_deepnote_index_column": 2
        },
        {
         "age": 33,
         "sex": "male",
         "bmi": 22.705,
         "children": 0,
         "smoker": "no",
         "region": "northwest",
         "charges": 21984.47061,
         "_deepnote_index_column": 3
        },
        {
         "age": 32,
         "sex": "male",
         "bmi": 28.88,
         "children": 0,
         "smoker": "no",
         "region": "northwest",
         "charges": 3866.8552,
         "_deepnote_index_column": 4
        },
        {
         "age": 31,
         "sex": "female",
         "bmi": 25.74,
         "children": 0,
         "smoker": "no",
         "region": "southeast",
         "charges": 3756.6216,
         "_deepnote_index_column": 5
        },
        {
         "age": 46,
         "sex": "female",
         "bmi": 33.44,
         "children": 1,
         "smoker": "no",
         "region": "southeast",
         "charges": 8240.5896,
         "_deepnote_index_column": 6
        },
        {
         "age": 37,
         "sex": "female",
         "bmi": 27.74,
         "children": 3,
         "smoker": "no",
         "region": "northwest",
         "charges": 7281.5056,
         "_deepnote_index_column": 7
        },
        {
         "age": 37,
         "sex": "male",
         "bmi": 29.83,
         "children": 2,
         "smoker": "no",
         "region": "northeast",
         "charges": 6406.4107,
         "_deepnote_index_column": 8
        },
        {
         "age": 60,
         "sex": "female",
         "bmi": 25.84,
         "children": 0,
         "smoker": "no",
         "region": "northwest",
         "charges": 28923.13692,
         "_deepnote_index_column": 9
        }
       ]
      },
      "text/plain": "      age     sex     bmi  children smoker     region      charges\n0      19  female  27.900         0    yes  southwest  16884.92400\n1      18    male  33.770         1     no  southeast   1725.55230\n2      28    male  33.000         3     no  southeast   4449.46200\n3      33    male  22.705         0     no  northwest  21984.47061\n4      32    male  28.880         0     no  northwest   3866.85520\n...   ...     ...     ...       ...    ...        ...          ...\n1333   50    male  30.970         3     no  northwest  10600.54830\n1334   18  female  31.920         0     no  northeast   2205.98080\n1335   18  female  36.850         0     no  southeast   1629.83350\n1336   21  female  25.800         0     no  southwest   2007.94500\n1337   61  female  29.070         0    yes  northwest  29141.36030\n\n[1338 rows x 7 columns]",
      "text/html": "<div>\n<style scoped>\n    .dataframe tbody tr th:only-of-type {\n        vertical-align: middle;\n    }\n\n    .dataframe tbody tr th {\n        vertical-align: top;\n    }\n\n    .dataframe thead th {\n        text-align: right;\n    }\n</style>\n<table border=\"1\" class=\"dataframe\">\n  <thead>\n    <tr style=\"text-align: right;\">\n      <th></th>\n      <th>age</th>\n      <th>sex</th>\n      <th>bmi</th>\n      <th>children</th>\n      <th>smoker</th>\n      <th>region</th>\n      <th>charges</th>\n    </tr>\n  </thead>\n  <tbody>\n    <tr>\n      <th>0</th>\n      <td>19</td>\n      <td>female</td>\n      <td>27.900</td>\n      <td>0</td>\n      <td>yes</td>\n      <td>southwest</td>\n      <td>16884.92400</td>\n    </tr>\n    <tr>\n      <th>1</th>\n      <td>18</td>\n      <td>male</td>\n      <td>33.770</td>\n      <td>1</td>\n      <td>no</td>\n      <td>southeast</td>\n      <td>1725.55230</td>\n    </tr>\n    <tr>\n      <th>2</th>\n      <td>28</td>\n      <td>male</td>\n      <td>33.000</td>\n      <td>3</td>\n      <td>no</td>\n      <td>southeast</td>\n      <td>4449.46200</td>\n    </tr>\n    <tr>\n      <th>3</th>\n      <td>33</td>\n      <td>male</td>\n      <td>22.705</td>\n      <td>0</td>\n      <td>no</td>\n      <td>northwest</td>\n      <td>21984.47061</td>\n    </tr>\n    <tr>\n      <th>4</th>\n      <td>32</td>\n      <td>male</td>\n      <td>28.880</td>\n      <td>0</td>\n      <td>no</td>\n      <td>northwest</td>\n      <td>3866.85520</td>\n    </tr>\n    <tr>\n      <th>...</th>\n      <td>...</td>\n      <td>...</td>\n      <td>...</td>\n      <td>...</td>\n      <td>...</td>\n      <td>...</td>\n      <td>...</td>\n    </tr>\n    <tr>\n      <th>1333</th>\n      <td>50</td>\n      <td>male</td>\n      <td>30.970</td>\n      <td>3</td>\n      <td>no</td>\n      <td>northwest</td>\n      <td>10600.54830</td>\n    </tr>\n    <tr>\n      <th>1334</th>\n      <td>18</td>\n      <td>female</td>\n      <td>31.920</td>\n      <td>0</td>\n      <td>no</td>\n      <td>northeast</td>\n      <td>2205.98080</td>\n    </tr>\n    <tr>\n      <th>1335</th>\n      <td>18</td>\n      <td>female</td>\n      <td>36.850</td>\n      <td>0</td>\n      <td>no</td>\n      <td>southeast</td>\n      <td>1629.83350</td>\n    </tr>\n    <tr>\n      <th>1336</th>\n      <td>21</td>\n      <td>female</td>\n      <td>25.800</td>\n      <td>0</td>\n      <td>no</td>\n      <td>southwest</td>\n      <td>2007.94500</td>\n    </tr>\n    <tr>\n      <th>1337</th>\n      <td>61</td>\n      <td>female</td>\n      <td>29.070</td>\n      <td>0</td>\n      <td>yes</td>\n      <td>northwest</td>\n      <td>29141.36030</td>\n    </tr>\n  </tbody>\n</table>\n<p>1338 rows × 7 columns</p>\n</div>"
     },
     "metadata": {}
    }
   ]
  },
  {
   "cell_type": "code",
   "metadata": {
    "cell_id": "a90085578016414da0473440c7039628",
    "tags": [],
    "deepnote_to_be_reexecuted": false,
    "source_hash": "a1116da4",
    "execution_start": 1651670551546,
    "execution_millis": 493,
    "deepnote_cell_type": "code",
    "deepnote_cell_height": 367.734375
   },
   "source": "df.info() # prints information about a DataFrame",
   "execution_count": 3,
   "outputs": [
    {
     "name": "stdout",
     "text": "<class 'pandas.core.frame.DataFrame'>\nRangeIndex: 1338 entries, 0 to 1337\nData columns (total 7 columns):\n #   Column    Non-Null Count  Dtype  \n---  ------    --------------  -----  \n 0   age       1338 non-null   int64  \n 1   sex       1338 non-null   object \n 2   bmi       1338 non-null   float64\n 3   children  1338 non-null   int64  \n 4   smoker    1338 non-null   object \n 5   region    1338 non-null   object \n 6   charges   1338 non-null   float64\ndtypes: float64(2), int64(2), object(3)\nmemory usage: 73.3+ KB\n",
     "output_type": "stream"
    }
   ]
  },
  {
   "cell_type": "code",
   "metadata": {
    "cell_id": "372165ca747449f6aaca27c28d598f68",
    "tags": [],
    "deepnote_to_be_reexecuted": false,
    "source_hash": "c6a3aa9d",
    "execution_start": 1651670551557,
    "execution_millis": 492,
    "deepnote_cell_type": "code",
    "deepnote_cell_height": 118.1875,
    "deepnote_output_heights": [
     21.1875
    ]
   },
   "source": "df.shape # gets the number of rows and columns",
   "execution_count": 4,
   "outputs": [
    {
     "output_type": "execute_result",
     "execution_count": 4,
     "data": {
      "text/plain": "(1338, 7)"
     },
     "metadata": {}
    }
   ]
  },
  {
   "cell_type": "code",
   "metadata": {
    "cell_id": "06e282a330f544c2a0bca2199914fb29",
    "tags": [],
    "deepnote_to_be_reexecuted": false,
    "source_hash": "91480992",
    "execution_start": 1651670551561,
    "execution_millis": 497,
    "deepnote_cell_type": "code",
    "deepnote_cell_height": 533
   },
   "source": "df.describe() # gets descriptive statistics include those that summarize the central tendency, dispersion and shape of a dataset’s distribution",
   "execution_count": 5,
   "outputs": [
    {
     "output_type": "execute_result",
     "execution_count": 5,
     "data": {
      "application/vnd.deepnote.dataframe.v3+json": {
       "column_count": 4,
       "row_count": 8,
       "columns": [
        {
         "name": "age",
         "dtype": "float64",
         "stats": {
          "unique_count": 8,
          "nan_count": 0,
          "min": "14.049960379216154",
          "max": "1338.0",
          "histogram": [
           {
            "bin_start": 14.049960379216154,
            "bin_end": 146.44496434129454,
            "count": 7
           },
           {
            "bin_start": 146.44496434129454,
            "bin_end": 278.8399683033729,
            "count": 0
           },
           {
            "bin_start": 278.8399683033729,
            "bin_end": 411.23497226545135,
            "count": 0
           },
           {
            "bin_start": 411.23497226545135,
            "bin_end": 543.6299762275297,
            "count": 0
           },
           {
            "bin_start": 543.6299762275297,
            "bin_end": 676.0249801896081,
            "count": 0
           },
           {
            "bin_start": 676.0249801896081,
            "bin_end": 808.4199841516865,
            "count": 0
           },
           {
            "bin_start": 808.4199841516865,
            "bin_end": 940.8149881137649,
            "count": 0
           },
           {
            "bin_start": 940.8149881137649,
            "bin_end": 1073.2099920758433,
            "count": 0
           },
           {
            "bin_start": 1073.2099920758433,
            "bin_end": 1205.6049960379216,
            "count": 0
           },
           {
            "bin_start": 1205.6049960379216,
            "bin_end": 1338,
            "count": 1
           }
          ]
         }
        },
        {
         "name": "bmi",
         "dtype": "float64",
         "stats": {
          "unique_count": 8,
          "nan_count": 0,
          "min": "6.098186911679014",
          "max": "1338.0",
          "histogram": [
           {
            "bin_start": 6.098186911679014,
            "bin_end": 139.28836822051113,
            "count": 7
           },
           {
            "bin_start": 139.28836822051113,
            "bin_end": 272.47854952934324,
            "count": 0
           },
           {
            "bin_start": 272.47854952934324,
            "bin_end": 405.66873083817535,
            "count": 0
           },
           {
            "bin_start": 405.66873083817535,
            "bin_end": 538.8589121470075,
            "count": 0
           },
           {
            "bin_start": 538.8589121470075,
            "bin_end": 672.0490934558395,
            "count": 0
           },
           {
            "bin_start": 672.0490934558395,
            "bin_end": 805.2392747646717,
            "count": 0
           },
           {
            "bin_start": 805.2392747646717,
            "bin_end": 938.4294560735038,
            "count": 0
           },
           {
            "bin_start": 938.4294560735038,
            "bin_end": 1071.619637382336,
            "count": 0
           },
           {
            "bin_start": 1071.619637382336,
            "bin_end": 1204.809818691168,
            "count": 0
           },
           {
            "bin_start": 1204.809818691168,
            "bin_end": 1338,
            "count": 1
           }
          ]
         }
        },
        {
         "name": "children",
         "dtype": "float64",
         "stats": {
          "unique_count": 7,
          "nan_count": 0,
          "min": "0.0",
          "max": "1338.0",
          "histogram": [
           {
            "bin_start": 0,
            "bin_end": 133.8,
            "count": 7
           },
           {
            "bin_start": 133.8,
            "bin_end": 267.6,
            "count": 0
           },
           {
            "bin_start": 267.6,
            "bin_end": 401.40000000000003,
            "count": 0
           },
           {
            "bin_start": 401.40000000000003,
            "bin_end": 535.2,
            "count": 0
           },
           {
            "bin_start": 535.2,
            "bin_end": 669,
            "count": 0
           },
           {
            "bin_start": 669,
            "bin_end": 802.8000000000001,
            "count": 0
           },
           {
            "bin_start": 802.8000000000001,
            "bin_end": 936.6000000000001,
            "count": 0
           },
           {
            "bin_start": 936.6000000000001,
            "bin_end": 1070.4,
            "count": 0
           },
           {
            "bin_start": 1070.4,
            "bin_end": 1204.2,
            "count": 0
           },
           {
            "bin_start": 1204.2,
            "bin_end": 1338,
            "count": 1
           }
          ]
         }
        },
        {
         "name": "charges",
         "dtype": "float64",
         "stats": {
          "unique_count": 8,
          "nan_count": 0,
          "min": "1121.8739",
          "max": "63770.42801",
          "histogram": [
           {
            "bin_start": 1121.8739,
            "bin_end": 7386.729311000001,
            "count": 3
           },
           {
            "bin_start": 7386.729311000001,
            "bin_end": 13651.584722000001,
            "count": 3
           },
           {
            "bin_start": 13651.584722000001,
            "bin_end": 19916.440133,
            "count": 1
           },
           {
            "bin_start": 19916.440133,
            "bin_end": 26181.295544,
            "count": 0
           },
           {
            "bin_start": 26181.295544,
            "bin_end": 32446.150955,
            "count": 0
           },
           {
            "bin_start": 32446.150955,
            "bin_end": 38711.006366,
            "count": 0
           },
           {
            "bin_start": 38711.006366,
            "bin_end": 44975.861777000006,
            "count": 0
           },
           {
            "bin_start": 44975.861777000006,
            "bin_end": 51240.717188,
            "count": 0
           },
           {
            "bin_start": 51240.717188,
            "bin_end": 57505.572599,
            "count": 0
           },
           {
            "bin_start": 57505.572599,
            "bin_end": 63770.42801,
            "count": 1
           }
          ]
         }
        },
        {
         "name": "_deepnote_index_column",
         "dtype": "object"
        }
       ],
       "rows": [
        {
         "age": 1338,
         "bmi": 1338,
         "children": 1338,
         "charges": 1338,
         "_deepnote_index_column": "count"
        },
        {
         "age": 39.20702541106129,
         "bmi": 30.66339686098655,
         "children": 1.0949177877429,
         "charges": 13270.422265141257,
         "_deepnote_index_column": "mean"
        },
        {
         "age": 14.049960379216154,
         "bmi": 6.098186911679014,
         "children": 1.205492739781914,
         "charges": 12110.011236694001,
         "_deepnote_index_column": "std"
        },
        {
         "age": 18,
         "bmi": 15.96,
         "children": 0,
         "charges": 1121.8739,
         "_deepnote_index_column": "min"
        },
        {
         "age": 27,
         "bmi": 26.29625,
         "children": 0,
         "charges": 4740.28715,
         "_deepnote_index_column": "25%"
        },
        {
         "age": 39,
         "bmi": 30.4,
         "children": 1,
         "charges": 9382.033,
         "_deepnote_index_column": "50%"
        },
        {
         "age": 51,
         "bmi": 34.69375,
         "children": 2,
         "charges": 16639.912515,
         "_deepnote_index_column": "75%"
        },
        {
         "age": 64,
         "bmi": 53.13,
         "children": 5,
         "charges": 63770.42801,
         "_deepnote_index_column": "max"
        }
       ]
      },
      "text/plain": "               age          bmi     children       charges\ncount  1338.000000  1338.000000  1338.000000   1338.000000\nmean     39.207025    30.663397     1.094918  13270.422265\nstd      14.049960     6.098187     1.205493  12110.011237\nmin      18.000000    15.960000     0.000000   1121.873900\n25%      27.000000    26.296250     0.000000   4740.287150\n50%      39.000000    30.400000     1.000000   9382.033000\n75%      51.000000    34.693750     2.000000  16639.912515\nmax      64.000000    53.130000     5.000000  63770.428010",
      "text/html": "<div>\n<style scoped>\n    .dataframe tbody tr th:only-of-type {\n        vertical-align: middle;\n    }\n\n    .dataframe tbody tr th {\n        vertical-align: top;\n    }\n\n    .dataframe thead th {\n        text-align: right;\n    }\n</style>\n<table border=\"1\" class=\"dataframe\">\n  <thead>\n    <tr style=\"text-align: right;\">\n      <th></th>\n      <th>age</th>\n      <th>bmi</th>\n      <th>children</th>\n      <th>charges</th>\n    </tr>\n  </thead>\n  <tbody>\n    <tr>\n      <th>count</th>\n      <td>1338.000000</td>\n      <td>1338.000000</td>\n      <td>1338.000000</td>\n      <td>1338.000000</td>\n    </tr>\n    <tr>\n      <th>mean</th>\n      <td>39.207025</td>\n      <td>30.663397</td>\n      <td>1.094918</td>\n      <td>13270.422265</td>\n    </tr>\n    <tr>\n      <th>std</th>\n      <td>14.049960</td>\n      <td>6.098187</td>\n      <td>1.205493</td>\n      <td>12110.011237</td>\n    </tr>\n    <tr>\n      <th>min</th>\n      <td>18.000000</td>\n      <td>15.960000</td>\n      <td>0.000000</td>\n      <td>1121.873900</td>\n    </tr>\n    <tr>\n      <th>25%</th>\n      <td>27.000000</td>\n      <td>26.296250</td>\n      <td>0.000000</td>\n      <td>4740.287150</td>\n    </tr>\n    <tr>\n      <th>50%</th>\n      <td>39.000000</td>\n      <td>30.400000</td>\n      <td>1.000000</td>\n      <td>9382.033000</td>\n    </tr>\n    <tr>\n      <th>75%</th>\n      <td>51.000000</td>\n      <td>34.693750</td>\n      <td>2.000000</td>\n      <td>16639.912515</td>\n    </tr>\n    <tr>\n      <th>max</th>\n      <td>64.000000</td>\n      <td>53.130000</td>\n      <td>5.000000</td>\n      <td>63770.428010</td>\n    </tr>\n  </tbody>\n</table>\n</div>"
     },
     "metadata": {}
    }
   ]
  },
  {
   "cell_type": "markdown",
   "source": "###### Checking dataset for missing values and valid entries",
   "metadata": {
    "cell_id": "a61b6a1f4c1b4da68e05141a68422329",
    "tags": [],
    "deepnote_cell_type": "markdown",
    "deepnote_cell_height": 52.390625
   }
  },
  {
   "cell_type": "code",
   "source": "df['smoker'].value_counts(dropna = False)",
   "metadata": {
    "cell_id": "058e4ed6616e465c928c13fd2f816290",
    "tags": [],
    "deepnote_to_be_reexecuted": false,
    "source_hash": "96c986c9",
    "execution_start": 1651670551615,
    "execution_millis": 469,
    "deepnote_cell_type": "code",
    "deepnote_cell_height": 156.578125,
    "deepnote_output_heights": [
     59.578125
    ]
   },
   "outputs": [
    {
     "output_type": "execute_result",
     "execution_count": 6,
     "data": {
      "text/plain": "no     1064\nyes     274\nName: smoker, dtype: int64"
     },
     "metadata": {}
    }
   ],
   "execution_count": 6
  },
  {
   "cell_type": "markdown",
   "source": "## Exploratory Visualization",
   "metadata": {
    "cell_id": "b04a8c656bd648c98c679fa642c4ee9f",
    "tags": [],
    "deepnote_cell_type": "markdown",
    "deepnote_cell_height": 70
   }
  },
  {
   "cell_type": "code",
   "metadata": {
    "cell_id": "89b20bd7b68e4a30801d969ae5314412",
    "tags": [],
    "deepnote_to_be_reexecuted": false,
    "source_hash": "b623e53d",
    "execution_start": 1651670551615,
    "execution_millis": 1,
    "owner_user_id": "9941c54c-10f8-4195-95f5-5551d0623d7d",
    "deepnote_cell_type": "code",
    "deepnote_cell_height": 81
   },
   "source": "# add dataviz\n",
   "execution_count": 6,
   "outputs": []
  },
  {
   "cell_type": "markdown",
   "source": "## Statistical hypothesis testing\n",
   "metadata": {
    "cell_id": "3d010bc32a344cd0b00dfd9472210921",
    "tags": [],
    "deepnote_cell_type": "markdown",
    "deepnote_cell_height": 70
   }
  },
  {
   "cell_type": "code",
   "metadata": {
    "cell_id": "d0d17233f64c49659c544354f68196b2",
    "tags": [],
    "deepnote_to_be_reexecuted": false,
    "source_hash": "60cd5947",
    "execution_start": 1651670551616,
    "execution_millis": 0,
    "deepnote_cell_type": "code",
    "deepnote_cell_height": 81
   },
   "source": "rand_num = np.random.randint(0,10) #generates a random integer",
   "execution_count": 7,
   "outputs": []
  },
  {
   "cell_type": "code",
   "metadata": {
    "cell_id": "e3cb58edb6914c6d8b882313e1cba09d",
    "tags": [],
    "deepnote_to_be_reexecuted": false,
    "source_hash": "a13e76ba",
    "execution_start": 1651670551616,
    "execution_millis": 469,
    "deepnote_cell_type": "code",
    "deepnote_cell_height": 118.1875,
    "deepnote_output_heights": [
     21.1875
    ]
   },
   "source": "np.array",
   "execution_count": 8,
   "outputs": [
    {
     "output_type": "execute_result",
     "execution_count": 8,
     "data": {
      "text/plain": "<function numpy.array>"
     },
     "metadata": {}
    }
   ]
  },
  {
   "cell_type": "code",
   "metadata": {
    "cell_id": "b9e3d0bf12f940bd97f1d40eba076661",
    "tags": [],
    "deepnote_to_be_reexecuted": false,
    "source_hash": "dae8e34d",
    "execution_start": 1651670551619,
    "execution_millis": 7,
    "deepnote_cell_type": "code",
    "deepnote_cell_height": 81
   },
   "source": "array_from_range = np.arange(0,100) # one liner to make an array from a range",
   "execution_count": 9,
   "outputs": []
  },
  {
   "cell_type": "code",
   "metadata": {
    "cell_id": "786aca270138473595368b046ceb22a1",
    "tags": [],
    "deepnote_to_be_reexecuted": false,
    "source_hash": "b623e53d",
    "execution_start": 1651670551627,
    "execution_millis": 1,
    "deepnote_cell_type": "code",
    "deepnote_cell_height": 81
   },
   "source": "",
   "execution_count": 9,
   "outputs": []
  },
  {
   "cell_type": "markdown",
   "source": "## Statistical Modeling",
   "metadata": {
    "cell_id": "a995efcf165a41b28e3607b4db1c0688",
    "tags": [],
    "deepnote_cell_type": "markdown",
    "deepnote_cell_height": 70
   }
  },
  {
   "cell_type": "code",
   "metadata": {
    "cell_id": "fb9ee3114c0b489e8635ea21fd55705a",
    "tags": [],
    "deepnote_to_be_reexecuted": false,
    "source_hash": "b623e53d",
    "execution_start": 1651670551628,
    "execution_millis": 2,
    "deepnote_cell_type": "code",
    "deepnote_cell_height": 81
   },
   "source": "",
   "execution_count": 9,
   "outputs": []
  },
  {
   "cell_type": "markdown",
   "source": "## Linear Regression",
   "metadata": {
    "cell_id": "d9c9a5b8298e4da6a77d2bcfdbefd311",
    "tags": [],
    "deepnote_cell_type": "markdown",
    "deepnote_cell_height": 70
   }
  },
  {
   "cell_type": "code",
   "metadata": {
    "cell_id": "947d1547c9ad4e8e99247498e2acde81",
    "tags": [],
    "deepnote_to_be_reexecuted": false,
    "source_hash": "b623e53d",
    "execution_start": 1651670551630,
    "execution_millis": 2,
    "deepnote_cell_type": "code",
    "deepnote_cell_height": 81
   },
   "source": "",
   "execution_count": 9,
   "outputs": []
  },
  {
   "cell_type": "markdown",
   "source": "<a style='text-decoration:none;line-height:16px;display:flex;color:#5B5B62;padding:10px;justify-content:end;' href='https://deepnote.com?utm_source=created-in-deepnote-cell&projectId=04eeb7cc-c014-42cc-9688-959f70fd96bb' target=\"_blank\">\n<img alt='Created in deepnote.com' style='display:inline;max-height:16px;margin:0px;margin-right:7.5px;' src='data:image/svg+xml;base64,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' > </img>\nCreated in <span style='font-weight:600;margin-left:4px;'>Deepnote</span></a>",
   "metadata": {
    "tags": [],
    "created_in_deepnote_cell": true,
    "deepnote_cell_type": "markdown"
   }
  }
 ],
 "nbformat": 4,
 "nbformat_minor": 2,
 "metadata": {
  "orig_nbformat": 2,
  "deepnote": {},
  "deepnote_notebook_id": "2339874e-6dc7-4b2e-971b-6ede915270f6",
  "deepnote_execution_queue": []
 }
}