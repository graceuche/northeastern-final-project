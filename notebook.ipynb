{
 "cells": [
  {
   "cell_type": "code",
   "metadata": {
    "tags": [],
    "cell_id": "8c3fc4c1-e045-41fd-9fa9-4068b4b87a78",
    "deepnote_to_be_reexecuted": false,
    "source_hash": "1feaac03",
    "execution_start": 1651848343530,
    "execution_millis": 0,
    "deepnote_cell_type": "code",
    "deepnote_cell_height": 98.984375
   },
   "source": "import numpy as np # mostly used for array computing and for advanced mathematical functions.\nimport pandas as pd # imports pandas package, aliases as pd",
   "execution_count": 1,
   "outputs": []
  },
  {
   "cell_type": "markdown",
   "source": "## Exploratory Data Analytics\n###### Data exploration is one of the key tasks a data analyst performs\n",
   "metadata": {
    "cell_id": "40532255b1564a3e84b56377ea6ea290",
    "tags": [],
    "deepnote_cell_type": "markdown",
    "deepnote_cell_height": 108.375
   }
  },
  {
   "cell_type": "code",
   "metadata": {
    "cell_id": "c74c177951134fe88b3996685b539983",
    "tags": [],
    "deepnote_to_be_reexecuted": false,
    "source_hash": "140132c5",
    "execution_start": 1651848343530,
    "execution_millis": 30,
    "deepnote_cell_type": "code",
    "deepnote_cell_height": 634.609375
   },
   "source": "df = pd.read_csv('insurance.csv')\ndf",
   "execution_count": 2,
   "outputs": [
    {
     "output_type": "execute_result",
     "execution_count": 2,
     "data": {
      "application/vnd.deepnote.dataframe.v3+json": {
       "column_count": 7,
       "row_count": 1338,
       "columns": [
        {
         "name": "age",
         "dtype": "int64",
         "stats": {
          "unique_count": 47,
          "nan_count": 0,
          "min": "18",
          "max": "64",
          "histogram": [
           {
            "bin_start": 18,
            "bin_end": 22.6,
            "count": 222
           },
           {
            "bin_start": 22.6,
            "bin_end": 27.2,
            "count": 140
           },
           {
            "bin_start": 27.2,
            "bin_end": 31.799999999999997,
            "count": 109
           },
           {
            "bin_start": 31.799999999999997,
            "bin_end": 36.4,
            "count": 128
           },
           {
            "bin_start": 36.4,
            "bin_end": 41,
            "count": 102
           },
           {
            "bin_start": 41,
            "bin_end": 45.599999999999994,
            "count": 137
           },
           {
            "bin_start": 45.599999999999994,
            "bin_end": 50.199999999999996,
            "count": 144
           },
           {
            "bin_start": 50.199999999999996,
            "bin_end": 54.8,
            "count": 114
           },
           {
            "bin_start": 54.8,
            "bin_end": 59.4,
            "count": 128
           },
           {
            "bin_start": 59.4,
            "bin_end": 64,
            "count": 114
           }
          ]
         }
        },
        {
         "name": "sex",
         "dtype": "object",
         "stats": {
          "unique_count": 2,
          "nan_count": 0,
          "categories": [
           {
            "name": "male",
            "count": 676
           },
           {
            "name": "female",
            "count": 662
           }
          ]
         }
        },
        {
         "name": "bmi",
         "dtype": "float64",
         "stats": {
          "unique_count": 548,
          "nan_count": 0,
          "min": "15.96",
          "max": "53.13",
          "histogram": [
           {
            "bin_start": 15.96,
            "bin_end": 19.677,
            "count": 30
           },
           {
            "bin_start": 19.677,
            "bin_end": 23.394000000000002,
            "count": 127
           },
           {
            "bin_start": 23.394000000000002,
            "bin_end": 27.111,
            "count": 234
           },
           {
            "bin_start": 27.111,
            "bin_end": 30.828000000000003,
            "count": 319
           },
           {
            "bin_start": 30.828000000000003,
            "bin_end": 34.545,
            "count": 288
           },
           {
            "bin_start": 34.545,
            "bin_end": 38.262,
            "count": 195
           },
           {
            "bin_start": 38.262,
            "bin_end": 41.979,
            "count": 96
           },
           {
            "bin_start": 41.979,
            "bin_end": 45.696,
            "count": 32
           },
           {
            "bin_start": 45.696,
            "bin_end": 49.413000000000004,
            "count": 14
           },
           {
            "bin_start": 49.413000000000004,
            "bin_end": 53.13,
            "count": 3
           }
          ]
         }
        },
        {
         "name": "children",
         "dtype": "int64",
         "stats": {
          "unique_count": 6,
          "nan_count": 0,
          "min": "0",
          "max": "5",
          "histogram": [
           {
            "bin_start": 0,
            "bin_end": 0.5,
            "count": 574
           },
           {
            "bin_start": 0.5,
            "bin_end": 1,
            "count": 0
           },
           {
            "bin_start": 1,
            "bin_end": 1.5,
            "count": 324
           },
           {
            "bin_start": 1.5,
            "bin_end": 2,
            "count": 0
           },
           {
            "bin_start": 2,
            "bin_end": 2.5,
            "count": 240
           },
           {
            "bin_start": 2.5,
            "bin_end": 3,
            "count": 0
           },
           {
            "bin_start": 3,
            "bin_end": 3.5,
            "count": 157
           },
           {
            "bin_start": 3.5,
            "bin_end": 4,
            "count": 0
           },
           {
            "bin_start": 4,
            "bin_end": 4.5,
            "count": 25
           },
           {
            "bin_start": 4.5,
            "bin_end": 5,
            "count": 18
           }
          ]
         }
        },
        {
         "name": "smoker",
         "dtype": "object",
         "stats": {
          "unique_count": 2,
          "nan_count": 0,
          "categories": [
           {
            "name": "no",
            "count": 1064
           },
           {
            "name": "yes",
            "count": 274
           }
          ]
         }
        },
        {
         "name": "region",
         "dtype": "object",
         "stats": {
          "unique_count": 4,
          "nan_count": 0,
          "categories": [
           {
            "name": "southeast",
            "count": 364
           },
           {
            "name": "southwest",
            "count": 325
           },
           {
            "name": "2 others",
            "count": 649
           }
          ]
         }
        },
        {
         "name": "charges",
         "dtype": "float64",
         "stats": {
          "unique_count": 1337,
          "nan_count": 0,
          "min": "1121.8739",
          "max": "63770.42801",
          "histogram": [
           {
            "bin_start": 1121.8739,
            "bin_end": 7386.729311000001,
            "count": 536
           },
           {
            "bin_start": 7386.729311000001,
            "bin_end": 13651.584722000001,
            "count": 398
           },
           {
            "bin_start": 13651.584722000001,
            "bin_end": 19916.440133,
            "count": 129
           },
           {
            "bin_start": 19916.440133,
            "bin_end": 26181.295544,
            "count": 86
           },
           {
            "bin_start": 26181.295544,
            "bin_end": 32446.150955,
            "count": 35
           },
           {
            "bin_start": 32446.150955,
            "bin_end": 38711.006366,
            "count": 59
           },
           {
            "bin_start": 38711.006366,
            "bin_end": 44975.861777000006,
            "count": 57
           },
           {
            "bin_start": 44975.861777000006,
            "bin_end": 51240.717188,
            "count": 32
           },
           {
            "bin_start": 51240.717188,
            "bin_end": 57505.572599,
            "count": 2
           },
           {
            "bin_start": 57505.572599,
            "bin_end": 63770.42801,
            "count": 4
           }
          ]
         }
        },
        {
         "name": "_deepnote_index_column",
         "dtype": "int64"
        }
       ],
       "rows": [
        {
         "age": 19,
         "sex": "female",
         "bmi": 27.9,
         "children": 0,
         "smoker": "yes",
         "region": "southwest",
         "charges": 16884.924,
         "_deepnote_index_column": 0
        },
        {
         "age": 18,
         "sex": "male",
         "bmi": 33.77,
         "children": 1,
         "smoker": "no",
         "region": "southeast",
         "charges": 1725.5523,
         "_deepnote_index_column": 1
        },
        {
         "age": 28,
         "sex": "male",
         "bmi": 33,
         "children": 3,
         "smoker": "no",
         "region": "southeast",
         "charges": 4449.462,
         "_deepnote_index_column": 2
        },
        {
         "age": 33,
         "sex": "male",
         "bmi": 22.705,
         "children": 0,
         "smoker": "no",
         "region": "northwest",
         "charges": 21984.47061,
         "_deepnote_index_column": 3
        },
        {
         "age": 32,
         "sex": "male",
         "bmi": 28.88,
         "children": 0,
         "smoker": "no",
         "region": "northwest",
         "charges": 3866.8552,
         "_deepnote_index_column": 4
        },
        {
         "age": 31,
         "sex": "female",
         "bmi": 25.74,
         "children": 0,
         "smoker": "no",
         "region": "southeast",
         "charges": 3756.6216,
         "_deepnote_index_column": 5
        },
        {
         "age": 46,
         "sex": "female",
         "bmi": 33.44,
         "children": 1,
         "smoker": "no",
         "region": "southeast",
         "charges": 8240.5896,
         "_deepnote_index_column": 6
        },
        {
         "age": 37,
         "sex": "female",
         "bmi": 27.74,
         "children": 3,
         "smoker": "no",
         "region": "northwest",
         "charges": 7281.5056,
         "_deepnote_index_column": 7
        },
        {
         "age": 37,
         "sex": "male",
         "bmi": 29.83,
         "children": 2,
         "smoker": "no",
         "region": "northeast",
         "charges": 6406.4107,
         "_deepnote_index_column": 8
        },
        {
         "age": 60,
         "sex": "female",
         "bmi": 25.84,
         "children": 0,
         "smoker": "no",
         "region": "northwest",
         "charges": 28923.13692,
         "_deepnote_index_column": 9
        }
       ]
      },
      "text/plain": "      age     sex     bmi  children smoker     region      charges\n0      19  female  27.900         0    yes  southwest  16884.92400\n1      18    male  33.770         1     no  southeast   1725.55230\n2      28    male  33.000         3     no  southeast   4449.46200\n3      33    male  22.705         0     no  northwest  21984.47061\n4      32    male  28.880         0     no  northwest   3866.85520\n...   ...     ...     ...       ...    ...        ...          ...\n1333   50    male  30.970         3     no  northwest  10600.54830\n1334   18  female  31.920         0     no  northeast   2205.98080\n1335   18  female  36.850         0     no  southeast   1629.83350\n1336   21  female  25.800         0     no  southwest   2007.94500\n1337   61  female  29.070         0    yes  northwest  29141.36030\n\n[1338 rows x 7 columns]",
      "text/html": "<div>\n<style scoped>\n    .dataframe tbody tr th:only-of-type {\n        vertical-align: middle;\n    }\n\n    .dataframe tbody tr th {\n        vertical-align: top;\n    }\n\n    .dataframe thead th {\n        text-align: right;\n    }\n</style>\n<table border=\"1\" class=\"dataframe\">\n  <thead>\n    <tr style=\"text-align: right;\">\n      <th></th>\n      <th>age</th>\n      <th>sex</th>\n      <th>bmi</th>\n      <th>children</th>\n      <th>smoker</th>\n      <th>region</th>\n      <th>charges</th>\n    </tr>\n  </thead>\n  <tbody>\n    <tr>\n      <th>0</th>\n      <td>19</td>\n      <td>female</td>\n      <td>27.900</td>\n      <td>0</td>\n      <td>yes</td>\n      <td>southwest</td>\n      <td>16884.92400</td>\n    </tr>\n    <tr>\n      <th>1</th>\n      <td>18</td>\n      <td>male</td>\n      <td>33.770</td>\n      <td>1</td>\n      <td>no</td>\n      <td>southeast</td>\n      <td>1725.55230</td>\n    </tr>\n    <tr>\n      <th>2</th>\n      <td>28</td>\n      <td>male</td>\n      <td>33.000</td>\n      <td>3</td>\n      <td>no</td>\n      <td>southeast</td>\n      <td>4449.46200</td>\n    </tr>\n    <tr>\n      <th>3</th>\n      <td>33</td>\n      <td>male</td>\n      <td>22.705</td>\n      <td>0</td>\n      <td>no</td>\n      <td>northwest</td>\n      <td>21984.47061</td>\n    </tr>\n    <tr>\n      <th>4</th>\n      <td>32</td>\n      <td>male</td>\n      <td>28.880</td>\n      <td>0</td>\n      <td>no</td>\n      <td>northwest</td>\n      <td>3866.85520</td>\n    </tr>\n    <tr>\n      <th>...</th>\n      <td>...</td>\n      <td>...</td>\n      <td>...</td>\n      <td>...</td>\n      <td>...</td>\n      <td>...</td>\n      <td>...</td>\n    </tr>\n    <tr>\n      <th>1333</th>\n      <td>50</td>\n      <td>male</td>\n      <td>30.970</td>\n      <td>3</td>\n      <td>no</td>\n      <td>northwest</td>\n      <td>10600.54830</td>\n    </tr>\n    <tr>\n      <th>1334</th>\n      <td>18</td>\n      <td>female</td>\n      <td>31.920</td>\n      <td>0</td>\n      <td>no</td>\n      <td>northeast</td>\n      <td>2205.98080</td>\n    </tr>\n    <tr>\n      <th>1335</th>\n      <td>18</td>\n      <td>female</td>\n      <td>36.850</td>\n      <td>0</td>\n      <td>no</td>\n      <td>southeast</td>\n      <td>1629.83350</td>\n    </tr>\n    <tr>\n      <th>1336</th>\n      <td>21</td>\n      <td>female</td>\n      <td>25.800</td>\n      <td>0</td>\n      <td>no</td>\n      <td>southwest</td>\n      <td>2007.94500</td>\n    </tr>\n    <tr>\n      <th>1337</th>\n      <td>61</td>\n      <td>female</td>\n      <td>29.070</td>\n      <td>0</td>\n      <td>yes</td>\n      <td>northwest</td>\n      <td>29141.36030</td>\n    </tr>\n  </tbody>\n</table>\n<p>1338 rows × 7 columns</p>\n</div>"
     },
     "metadata": {}
    }
   ]
  },
  {
   "cell_type": "code",
   "metadata": {
    "cell_id": "a90085578016414da0473440c7039628",
    "tags": [],
    "deepnote_to_be_reexecuted": false,
    "source_hash": "a1116da4",
    "execution_start": 1651848343571,
    "execution_millis": 6,
    "deepnote_cell_type": "code",
    "deepnote_cell_height": 368.4375
   },
   "source": "df.info() # prints information about a DataFrame",
   "execution_count": 3,
   "outputs": [
    {
     "name": "stdout",
     "text": "<class 'pandas.core.frame.DataFrame'>\nRangeIndex: 1338 entries, 0 to 1337\nData columns (total 7 columns):\n #   Column    Non-Null Count  Dtype  \n---  ------    --------------  -----  \n 0   age       1338 non-null   int64  \n 1   sex       1338 non-null   object \n 2   bmi       1338 non-null   float64\n 3   children  1338 non-null   int64  \n 4   smoker    1338 non-null   object \n 5   region    1338 non-null   object \n 6   charges   1338 non-null   float64\ndtypes: float64(2), int64(2), object(3)\nmemory usage: 73.3+ KB\n",
     "output_type": "stream"
    }
   ]
  },
  {
   "cell_type": "code",
   "metadata": {
    "cell_id": "372165ca747449f6aaca27c28d598f68",
    "tags": [],
    "deepnote_to_be_reexecuted": false,
    "source_hash": "c6a3aa9d",
    "execution_start": 1651848343580,
    "execution_millis": 7,
    "deepnote_cell_type": "code",
    "deepnote_cell_height": 118.15625,
    "deepnote_output_heights": [
     21.1875
    ]
   },
   "source": "df.shape # gets the number of rows and columns",
   "execution_count": 4,
   "outputs": [
    {
     "output_type": "execute_result",
     "execution_count": 4,
     "data": {
      "text/plain": "(1338, 7)"
     },
     "metadata": {}
    }
   ]
  },
  {
   "cell_type": "code",
   "metadata": {
    "cell_id": "06e282a330f544c2a0bca2199914fb29",
    "tags": [],
    "deepnote_to_be_reexecuted": false,
    "source_hash": "91480992",
    "execution_start": 1651848343591,
    "execution_millis": 34,
    "deepnote_cell_type": "code",
    "deepnote_cell_height": 517.9375
   },
   "source": "df.describe() # gets descriptive statistics include those that summarize the central tendency, dispersion and shape of a dataset’s distribution",
   "execution_count": 5,
   "outputs": [
    {
     "output_type": "execute_result",
     "execution_count": 5,
     "data": {
      "application/vnd.deepnote.dataframe.v3+json": {
       "column_count": 4,
       "row_count": 8,
       "columns": [
        {
         "name": "age",
         "dtype": "float64",
         "stats": {
          "unique_count": 8,
          "nan_count": 0,
          "min": "14.049960379216154",
          "max": "1338.0",
          "histogram": [
           {
            "bin_start": 14.049960379216154,
            "bin_end": 146.44496434129454,
            "count": 7
           },
           {
            "bin_start": 146.44496434129454,
            "bin_end": 278.8399683033729,
            "count": 0
           },
           {
            "bin_start": 278.8399683033729,
            "bin_end": 411.23497226545135,
            "count": 0
           },
           {
            "bin_start": 411.23497226545135,
            "bin_end": 543.6299762275297,
            "count": 0
           },
           {
            "bin_start": 543.6299762275297,
            "bin_end": 676.0249801896081,
            "count": 0
           },
           {
            "bin_start": 676.0249801896081,
            "bin_end": 808.4199841516865,
            "count": 0
           },
           {
            "bin_start": 808.4199841516865,
            "bin_end": 940.8149881137649,
            "count": 0
           },
           {
            "bin_start": 940.8149881137649,
            "bin_end": 1073.2099920758433,
            "count": 0
           },
           {
            "bin_start": 1073.2099920758433,
            "bin_end": 1205.6049960379216,
            "count": 0
           },
           {
            "bin_start": 1205.6049960379216,
            "bin_end": 1338,
            "count": 1
           }
          ]
         }
        },
        {
         "name": "bmi",
         "dtype": "float64",
         "stats": {
          "unique_count": 8,
          "nan_count": 0,
          "min": "6.098186911679014",
          "max": "1338.0",
          "histogram": [
           {
            "bin_start": 6.098186911679014,
            "bin_end": 139.28836822051113,
            "count": 7
           },
           {
            "bin_start": 139.28836822051113,
            "bin_end": 272.47854952934324,
            "count": 0
           },
           {
            "bin_start": 272.47854952934324,
            "bin_end": 405.66873083817535,
            "count": 0
           },
           {
            "bin_start": 405.66873083817535,
            "bin_end": 538.8589121470075,
            "count": 0
           },
           {
            "bin_start": 538.8589121470075,
            "bin_end": 672.0490934558395,
            "count": 0
           },
           {
            "bin_start": 672.0490934558395,
            "bin_end": 805.2392747646717,
            "count": 0
           },
           {
            "bin_start": 805.2392747646717,
            "bin_end": 938.4294560735038,
            "count": 0
           },
           {
            "bin_start": 938.4294560735038,
            "bin_end": 1071.619637382336,
            "count": 0
           },
           {
            "bin_start": 1071.619637382336,
            "bin_end": 1204.809818691168,
            "count": 0
           },
           {
            "bin_start": 1204.809818691168,
            "bin_end": 1338,
            "count": 1
           }
          ]
         }
        },
        {
         "name": "children",
         "dtype": "float64",
         "stats": {
          "unique_count": 7,
          "nan_count": 0,
          "min": "0.0",
          "max": "1338.0",
          "histogram": [
           {
            "bin_start": 0,
            "bin_end": 133.8,
            "count": 7
           },
           {
            "bin_start": 133.8,
            "bin_end": 267.6,
            "count": 0
           },
           {
            "bin_start": 267.6,
            "bin_end": 401.40000000000003,
            "count": 0
           },
           {
            "bin_start": 401.40000000000003,
            "bin_end": 535.2,
            "count": 0
           },
           {
            "bin_start": 535.2,
            "bin_end": 669,
            "count": 0
           },
           {
            "bin_start": 669,
            "bin_end": 802.8000000000001,
            "count": 0
           },
           {
            "bin_start": 802.8000000000001,
            "bin_end": 936.6000000000001,
            "count": 0
           },
           {
            "bin_start": 936.6000000000001,
            "bin_end": 1070.4,
            "count": 0
           },
           {
            "bin_start": 1070.4,
            "bin_end": 1204.2,
            "count": 0
           },
           {
            "bin_start": 1204.2,
            "bin_end": 1338,
            "count": 1
           }
          ]
         }
        },
        {
         "name": "charges",
         "dtype": "float64",
         "stats": {
          "unique_count": 8,
          "nan_count": 0,
          "min": "1121.8739",
          "max": "63770.42801",
          "histogram": [
           {
            "bin_start": 1121.8739,
            "bin_end": 7386.729311000001,
            "count": 3
           },
           {
            "bin_start": 7386.729311000001,
            "bin_end": 13651.584722000001,
            "count": 3
           },
           {
            "bin_start": 13651.584722000001,
            "bin_end": 19916.440133,
            "count": 1
           },
           {
            "bin_start": 19916.440133,
            "bin_end": 26181.295544,
            "count": 0
           },
           {
            "bin_start": 26181.295544,
            "bin_end": 32446.150955,
            "count": 0
           },
           {
            "bin_start": 32446.150955,
            "bin_end": 38711.006366,
            "count": 0
           },
           {
            "bin_start": 38711.006366,
            "bin_end": 44975.861777000006,
            "count": 0
           },
           {
            "bin_start": 44975.861777000006,
            "bin_end": 51240.717188,
            "count": 0
           },
           {
            "bin_start": 51240.717188,
            "bin_end": 57505.572599,
            "count": 0
           },
           {
            "bin_start": 57505.572599,
            "bin_end": 63770.42801,
            "count": 1
           }
          ]
         }
        },
        {
         "name": "_deepnote_index_column",
         "dtype": "object"
        }
       ],
       "rows": [
        {
         "age": 1338,
         "bmi": 1338,
         "children": 1338,
         "charges": 1338,
         "_deepnote_index_column": "count"
        },
        {
         "age": 39.20702541106129,
         "bmi": 30.66339686098655,
         "children": 1.0949177877429,
         "charges": 13270.422265141257,
         "_deepnote_index_column": "mean"
        },
        {
         "age": 14.049960379216154,
         "bmi": 6.098186911679014,
         "children": 1.205492739781914,
         "charges": 12110.011236694001,
         "_deepnote_index_column": "std"
        },
        {
         "age": 18,
         "bmi": 15.96,
         "children": 0,
         "charges": 1121.8739,
         "_deepnote_index_column": "min"
        },
        {
         "age": 27,
         "bmi": 26.29625,
         "children": 0,
         "charges": 4740.28715,
         "_deepnote_index_column": "25%"
        },
        {
         "age": 39,
         "bmi": 30.4,
         "children": 1,
         "charges": 9382.033,
         "_deepnote_index_column": "50%"
        },
        {
         "age": 51,
         "bmi": 34.69375,
         "children": 2,
         "charges": 16639.912515,
         "_deepnote_index_column": "75%"
        },
        {
         "age": 64,
         "bmi": 53.13,
         "children": 5,
         "charges": 63770.42801,
         "_deepnote_index_column": "max"
        }
       ]
      },
      "text/plain": "               age          bmi     children       charges\ncount  1338.000000  1338.000000  1338.000000   1338.000000\nmean     39.207025    30.663397     1.094918  13270.422265\nstd      14.049960     6.098187     1.205493  12110.011237\nmin      18.000000    15.960000     0.000000   1121.873900\n25%      27.000000    26.296250     0.000000   4740.287150\n50%      39.000000    30.400000     1.000000   9382.033000\n75%      51.000000    34.693750     2.000000  16639.912515\nmax      64.000000    53.130000     5.000000  63770.428010",
      "text/html": "<div>\n<style scoped>\n    .dataframe tbody tr th:only-of-type {\n        vertical-align: middle;\n    }\n\n    .dataframe tbody tr th {\n        vertical-align: top;\n    }\n\n    .dataframe thead th {\n        text-align: right;\n    }\n</style>\n<table border=\"1\" class=\"dataframe\">\n  <thead>\n    <tr style=\"text-align: right;\">\n      <th></th>\n      <th>age</th>\n      <th>bmi</th>\n      <th>children</th>\n      <th>charges</th>\n    </tr>\n  </thead>\n  <tbody>\n    <tr>\n      <th>count</th>\n      <td>1338.000000</td>\n      <td>1338.000000</td>\n      <td>1338.000000</td>\n      <td>1338.000000</td>\n    </tr>\n    <tr>\n      <th>mean</th>\n      <td>39.207025</td>\n      <td>30.663397</td>\n      <td>1.094918</td>\n      <td>13270.422265</td>\n    </tr>\n    <tr>\n      <th>std</th>\n      <td>14.049960</td>\n      <td>6.098187</td>\n      <td>1.205493</td>\n      <td>12110.011237</td>\n    </tr>\n    <tr>\n      <th>min</th>\n      <td>18.000000</td>\n      <td>15.960000</td>\n      <td>0.000000</td>\n      <td>1121.873900</td>\n    </tr>\n    <tr>\n      <th>25%</th>\n      <td>27.000000</td>\n      <td>26.296250</td>\n      <td>0.000000</td>\n      <td>4740.287150</td>\n    </tr>\n    <tr>\n      <th>50%</th>\n      <td>39.000000</td>\n      <td>30.400000</td>\n      <td>1.000000</td>\n      <td>9382.033000</td>\n    </tr>\n    <tr>\n      <th>75%</th>\n      <td>51.000000</td>\n      <td>34.693750</td>\n      <td>2.000000</td>\n      <td>16639.912515</td>\n    </tr>\n    <tr>\n      <th>max</th>\n      <td>64.000000</td>\n      <td>53.130000</td>\n      <td>5.000000</td>\n      <td>63770.428010</td>\n    </tr>\n  </tbody>\n</table>\n</div>"
     },
     "metadata": {}
    }
   ]
  },
  {
   "cell_type": "markdown",
   "source": "###### Checking dataset for missing values and valid entries",
   "metadata": {
    "cell_id": "a61b6a1f4c1b4da68e05141a68422329",
    "tags": [],
    "deepnote_cell_type": "markdown",
    "deepnote_cell_height": 52.375
   }
  },
  {
   "cell_type": "code",
   "metadata": {
    "cell_id": "058e4ed6616e465c928c13fd2f816290",
    "tags": [],
    "deepnote_to_be_reexecuted": false,
    "source_hash": "96c986c9",
    "execution_start": 1651848343640,
    "execution_millis": 19,
    "deepnote_cell_type": "code",
    "deepnote_cell_height": 156.53125,
    "deepnote_output_heights": [
     59.5625
    ]
   },
   "source": "df['smoker'].value_counts(dropna = False)",
   "execution_count": 6,
   "outputs": [
    {
     "output_type": "execute_result",
     "execution_count": 6,
     "data": {
      "text/plain": "no     1064\nyes     274\nName: smoker, dtype: int64"
     },
     "metadata": {}
    }
   ]
  },
  {
   "cell_type": "markdown",
   "source": "## Exploratory Visualization",
   "metadata": {
    "cell_id": "b04a8c656bd648c98c679fa642c4ee9f",
    "tags": [],
    "deepnote_cell_type": "markdown",
    "deepnote_cell_height": 69.96875
   }
  },
  {
   "cell_type": "code",
   "metadata": {
    "cell_id": "89b20bd7b68e4a30801d969ae5314412",
    "tags": [],
    "deepnote_to_be_reexecuted": false,
    "source_hash": "63131085",
    "execution_start": 1651848343644,
    "execution_millis": 0,
    "deepnote_cell_type": "code",
    "deepnote_cell_height": 98.984375
   },
   "source": "# add dataviz\n",
   "execution_count": 7,
   "outputs": []
  },
  {
   "cell_type": "code",
   "metadata": {
    "cell_id": "0f6b1568b2fa45d499b44ef7ad8e59f4",
    "tags": [],
    "deepnote_to_be_reexecuted": false,
    "source_hash": "6a77453d",
    "execution_start": 1651848343644,
    "execution_millis": 1239,
    "deepnote_cell_type": "code",
    "deepnote_cell_height": 80.96875
   },
   "source": "import matplotlib.pyplot as plt",
   "execution_count": 8,
   "outputs": []
  },
  {
   "cell_type": "code",
   "metadata": {
    "cell_id": "01ab09eb1d0d4ba0b917bf749989fde8",
    "tags": [],
    "deepnote_to_be_reexecuted": false,
    "source_hash": "6f8e8fa9",
    "execution_start": 1651848344894,
    "execution_millis": 2,
    "deepnote_cell_type": "code",
    "deepnote_cell_height": 80.96875
   },
   "source": "top_pay = df.nlargest(8, columns=['bmi','age','charges'])",
   "execution_count": 9,
   "outputs": []
  },
  {
   "cell_type": "code",
   "metadata": {
    "cell_id": "54efdeb73c03411fae1acec2e245ff45",
    "tags": [],
    "deepnote_to_be_reexecuted": false,
    "source_hash": "f387dbc1",
    "execution_start": 1651848344926,
    "execution_millis": 3,
    "deepnote_cell_type": "code",
    "deepnote_cell_height": 534.609375
   },
   "source": "top_pay",
   "execution_count": 10,
   "outputs": [
    {
     "output_type": "execute_result",
     "execution_count": 10,
     "data": {
      "application/vnd.deepnote.dataframe.v3+json": {
       "column_count": 7,
       "row_count": 8,
       "columns": [
        {
         "name": "age",
         "dtype": "int64",
         "stats": {
          "unique_count": 8,
          "nan_count": 0,
          "min": "18",
          "max": "58",
          "histogram": [
           {
            "bin_start": 18,
            "bin_end": 22,
            "count": 1
           },
           {
            "bin_start": 22,
            "bin_end": 26,
            "count": 2
           },
           {
            "bin_start": 26,
            "bin_end": 30,
            "count": 0
           },
           {
            "bin_start": 30,
            "bin_end": 34,
            "count": 0
           },
           {
            "bin_start": 34,
            "bin_end": 38,
            "count": 1
           },
           {
            "bin_start": 38,
            "bin_end": 42,
            "count": 0
           },
           {
            "bin_start": 42,
            "bin_end": 46,
            "count": 0
           },
           {
            "bin_start": 46,
            "bin_end": 50,
            "count": 2
           },
           {
            "bin_start": 50,
            "bin_end": 54,
            "count": 1
           },
           {
            "bin_start": 54,
            "bin_end": 58,
            "count": 1
           }
          ]
         }
        },
        {
         "name": "sex",
         "dtype": "object",
         "stats": {
          "unique_count": 2,
          "nan_count": 0,
          "categories": [
           {
            "name": "male",
            "count": 6
           },
           {
            "name": "female",
            "count": 2
           }
          ]
         }
        },
        {
         "name": "bmi",
         "dtype": "float64",
         "stats": {
          "unique_count": 8,
          "nan_count": 0,
          "min": "47.52",
          "max": "53.13",
          "histogram": [
           {
            "bin_start": 47.52,
            "bin_end": 48.081,
            "count": 4
           },
           {
            "bin_start": 48.081,
            "bin_end": 48.642,
            "count": 0
           },
           {
            "bin_start": 48.642,
            "bin_end": 49.203,
            "count": 1
           },
           {
            "bin_start": 49.203,
            "bin_end": 49.764,
            "count": 0
           },
           {
            "bin_start": 49.764,
            "bin_end": 50.325,
            "count": 0
           },
           {
            "bin_start": 50.325,
            "bin_end": 50.886,
            "count": 1
           },
           {
            "bin_start": 50.886,
            "bin_end": 51.447,
            "count": 0
           },
           {
            "bin_start": 51.447,
            "bin_end": 52.008,
            "count": 0
           },
           {
            "bin_start": 52.008,
            "bin_end": 52.569,
            "count": 0
           },
           {
            "bin_start": 52.569,
            "bin_end": 53.13,
            "count": 2
           }
          ]
         }
        },
        {
         "name": "children",
         "dtype": "int64",
         "stats": {
          "unique_count": 3,
          "nan_count": 0,
          "min": "0",
          "max": "2",
          "histogram": [
           {
            "bin_start": 0,
            "bin_end": 0.2,
            "count": 2
           },
           {
            "bin_start": 0.2,
            "bin_end": 0.4,
            "count": 0
           },
           {
            "bin_start": 0.4,
            "bin_end": 0.6000000000000001,
            "count": 0
           },
           {
            "bin_start": 0.6000000000000001,
            "bin_end": 0.8,
            "count": 0
           },
           {
            "bin_start": 0.8,
            "bin_end": 1,
            "count": 0
           },
           {
            "bin_start": 1,
            "bin_end": 1.2000000000000002,
            "count": 4
           },
           {
            "bin_start": 1.2000000000000002,
            "bin_end": 1.4000000000000001,
            "count": 0
           },
           {
            "bin_start": 1.4000000000000001,
            "bin_end": 1.6,
            "count": 0
           },
           {
            "bin_start": 1.6,
            "bin_end": 1.8,
            "count": 0
           },
           {
            "bin_start": 1.8,
            "bin_end": 2,
            "count": 2
           }
          ]
         }
        },
        {
         "name": "smoker",
         "dtype": "object",
         "stats": {
          "unique_count": 2,
          "nan_count": 0,
          "categories": [
           {
            "name": "no",
            "count": 6
           },
           {
            "name": "yes",
            "count": 2
           }
          ]
         }
        },
        {
         "name": "region",
         "dtype": "object",
         "stats": {
          "unique_count": 3,
          "nan_count": 0,
          "categories": [
           {
            "name": "southeast",
            "count": 6
           },
           {
            "name": "northeast",
            "count": 1
           },
           {
            "name": "southwest",
            "count": 1
           }
          ]
         }
        },
        {
         "name": "charges",
         "dtype": "float64",
         "stats": {
          "unique_count": 8,
          "nan_count": 0,
          "min": "1163.4627",
          "max": "46113.511",
          "histogram": [
           {
            "bin_start": 1163.4627,
            "bin_end": 5658.46753,
            "count": 2
           },
           {
            "bin_start": 5658.46753,
            "bin_end": 10153.47236,
            "count": 3
           },
           {
            "bin_start": 10153.47236,
            "bin_end": 14648.47719,
            "count": 1
           },
           {
            "bin_start": 14648.47719,
            "bin_end": 19143.48202,
            "count": 0
           },
           {
            "bin_start": 19143.48202,
            "bin_end": 23638.486849999998,
            "count": 0
           },
           {
            "bin_start": 23638.486849999998,
            "bin_end": 28133.49168,
            "count": 0
           },
           {
            "bin_start": 28133.49168,
            "bin_end": 32628.49651,
            "count": 0
           },
           {
            "bin_start": 32628.49651,
            "bin_end": 37123.50134,
            "count": 0
           },
           {
            "bin_start": 37123.50134,
            "bin_end": 41618.50616999999,
            "count": 0
           },
           {
            "bin_start": 41618.50616999999,
            "bin_end": 46113.511,
            "count": 2
           }
          ]
         }
        },
        {
         "name": "_deepnote_index_column",
         "dtype": "int64"
        }
       ],
       "rows": [
        {
         "age": 18,
         "sex": "male",
         "bmi": 53.13,
         "children": 0,
         "smoker": "no",
         "region": "southeast",
         "charges": 1163.4627,
         "_deepnote_index_column": 1317
        },
        {
         "age": 22,
         "sex": "male",
         "bmi": 52.58,
         "children": 1,
         "smoker": "yes",
         "region": "southeast",
         "charges": 44501.3982,
         "_deepnote_index_column": 1047
        },
        {
         "age": 23,
         "sex": "male",
         "bmi": 50.38,
         "children": 1,
         "smoker": "no",
         "region": "southeast",
         "charges": 2438.0552,
         "_deepnote_index_column": 847
        },
        {
         "age": 58,
         "sex": "male",
         "bmi": 49.06,
         "children": 0,
         "smoker": "no",
         "region": "southeast",
         "charges": 11381.3254,
         "_deepnote_index_column": 116
        },
        {
         "age": 46,
         "sex": "female",
         "bmi": 48.07,
         "children": 2,
         "smoker": "no",
         "region": "northeast",
         "charges": 9432.9253,
         "_deepnote_index_column": 286
        },
        {
         "age": 52,
         "sex": "male",
         "bmi": 47.74,
         "children": 1,
         "smoker": "no",
         "region": "southeast",
         "charges": 9748.9106,
         "_deepnote_index_column": 1088
        },
        {
         "age": 37,
         "sex": "female",
         "bmi": 47.6,
         "children": 2,
         "smoker": "yes",
         "region": "southwest",
         "charges": 46113.511,
         "_deepnote_index_column": 860
        },
        {
         "age": 47,
         "sex": "male",
         "bmi": 47.52,
         "children": 1,
         "smoker": "no",
         "region": "southeast",
         "charges": 8083.9198,
         "_deepnote_index_column": 401
        }
       ]
      },
      "text/plain": "      age     sex    bmi  children smoker     region     charges\n1317   18    male  53.13         0     no  southeast   1163.4627\n1047   22    male  52.58         1    yes  southeast  44501.3982\n847    23    male  50.38         1     no  southeast   2438.0552\n116    58    male  49.06         0     no  southeast  11381.3254\n286    46  female  48.07         2     no  northeast   9432.9253\n1088   52    male  47.74         1     no  southeast   9748.9106\n860    37  female  47.60         2    yes  southwest  46113.5110\n401    47    male  47.52         1     no  southeast   8083.9198",
      "text/html": "<div>\n<style scoped>\n    .dataframe tbody tr th:only-of-type {\n        vertical-align: middle;\n    }\n\n    .dataframe tbody tr th {\n        vertical-align: top;\n    }\n\n    .dataframe thead th {\n        text-align: right;\n    }\n</style>\n<table border=\"1\" class=\"dataframe\">\n  <thead>\n    <tr style=\"text-align: right;\">\n      <th></th>\n      <th>age</th>\n      <th>sex</th>\n      <th>bmi</th>\n      <th>children</th>\n      <th>smoker</th>\n      <th>region</th>\n      <th>charges</th>\n    </tr>\n  </thead>\n  <tbody>\n    <tr>\n      <th>1317</th>\n      <td>18</td>\n      <td>male</td>\n      <td>53.13</td>\n      <td>0</td>\n      <td>no</td>\n      <td>southeast</td>\n      <td>1163.4627</td>\n    </tr>\n    <tr>\n      <th>1047</th>\n      <td>22</td>\n      <td>male</td>\n      <td>52.58</td>\n      <td>1</td>\n      <td>yes</td>\n      <td>southeast</td>\n      <td>44501.3982</td>\n    </tr>\n    <tr>\n      <th>847</th>\n      <td>23</td>\n      <td>male</td>\n      <td>50.38</td>\n      <td>1</td>\n      <td>no</td>\n      <td>southeast</td>\n      <td>2438.0552</td>\n    </tr>\n    <tr>\n      <th>116</th>\n      <td>58</td>\n      <td>male</td>\n      <td>49.06</td>\n      <td>0</td>\n      <td>no</td>\n      <td>southeast</td>\n      <td>11381.3254</td>\n    </tr>\n    <tr>\n      <th>286</th>\n      <td>46</td>\n      <td>female</td>\n      <td>48.07</td>\n      <td>2</td>\n      <td>no</td>\n      <td>northeast</td>\n      <td>9432.9253</td>\n    </tr>\n    <tr>\n      <th>1088</th>\n      <td>52</td>\n      <td>male</td>\n      <td>47.74</td>\n      <td>1</td>\n      <td>no</td>\n      <td>southeast</td>\n      <td>9748.9106</td>\n    </tr>\n    <tr>\n      <th>860</th>\n      <td>37</td>\n      <td>female</td>\n      <td>47.60</td>\n      <td>2</td>\n      <td>yes</td>\n      <td>southwest</td>\n      <td>46113.5110</td>\n    </tr>\n    <tr>\n      <th>401</th>\n      <td>47</td>\n      <td>male</td>\n      <td>47.52</td>\n      <td>1</td>\n      <td>no</td>\n      <td>southeast</td>\n      <td>8083.9198</td>\n    </tr>\n  </tbody>\n</table>\n</div>"
     },
     "metadata": {}
    }
   ]
  },
  {
   "cell_type": "markdown",
   "source": "### Reshaping the data using aggregate functions and `groupby`",
   "metadata": {
    "cell_id": "f11eae9deac947baae15a798370f5a3f",
    "tags": [],
    "deepnote_cell_type": "markdown",
    "deepnote_cell_height": 94.53125
   }
  },
  {
   "cell_type": "code",
   "metadata": {
    "cell_id": "7d5d113d44cf41aa92e2eab8dc458fb9",
    "tags": [],
    "deepnote_to_be_reexecuted": false,
    "source_hash": "185a6f90",
    "execution_start": 1651848344987,
    "execution_millis": 27,
    "owner_user_id": "3bfb12d7-bb73-4d7b-8185-8ffaf284befd",
    "deepnote_cell_type": "code",
    "deepnote_cell_height": 443.9375
   },
   "source": "grouped_df = df.groupby('region', as_index=False)['charges'].mean() # creates a new data frame with regions as new rows and means of carges as values\ngrouped_df.columns = grouped_df.columns.str.replace('charges', 'mean_charges') # renames charges into mean_charges\ngrouped_df['median_charges'] = df.groupby('region', as_index=False)['charges'].median()['charges'] # adds a new column with median charges\ngrouped_df['max_charges'] = df.groupby('region', as_index=False)['charges'].max()['charges'] # adds a new column with maximum charges\ngrouped_df['max_charges'] = df.groupby('region', as_index=False)['charges'].min()['charges'] # adds a new column with minimum charges\ngrouped_df",
   "execution_count": 11,
   "outputs": [
    {
     "output_type": "execute_result",
     "execution_count": 11,
     "data": {
      "application/vnd.deepnote.dataframe.v3+json": {
       "column_count": 4,
       "row_count": 4,
       "columns": [
        {
         "name": "region",
         "dtype": "object",
         "stats": {
          "unique_count": 4,
          "nan_count": 0,
          "categories": [
           {
            "name": "northeast",
            "count": 1
           },
           {
            "name": "northwest",
            "count": 1
           },
           {
            "name": "2 others",
            "count": 2
           }
          ]
         }
        },
        {
         "name": "mean_charges",
         "dtype": "float64",
         "stats": {
          "unique_count": 4,
          "nan_count": 0,
          "min": "12346.93737729231",
          "max": "14735.411437609895",
          "histogram": [
           {
            "bin_start": 12346.93737729231,
            "bin_end": 12585.784783324068,
            "count": 2
           },
           {
            "bin_start": 12585.784783324068,
            "bin_end": 12824.632189355827,
            "count": 0
           },
           {
            "bin_start": 12824.632189355827,
            "bin_end": 13063.479595387586,
            "count": 0
           },
           {
            "bin_start": 13063.479595387586,
            "bin_end": 13302.327001419344,
            "count": 0
           },
           {
            "bin_start": 13302.327001419344,
            "bin_end": 13541.174407451103,
            "count": 1
           },
           {
            "bin_start": 13541.174407451103,
            "bin_end": 13780.021813482861,
            "count": 0
           },
           {
            "bin_start": 13780.021813482861,
            "bin_end": 14018.86921951462,
            "count": 0
           },
           {
            "bin_start": 14018.86921951462,
            "bin_end": 14257.716625546378,
            "count": 0
           },
           {
            "bin_start": 14257.716625546378,
            "bin_end": 14496.564031578137,
            "count": 0
           },
           {
            "bin_start": 14496.564031578137,
            "bin_end": 14735.411437609895,
            "count": 1
           }
          ]
         }
        },
        {
         "name": "median_charges",
         "dtype": "float64",
         "stats": {
          "unique_count": 4,
          "nan_count": 0,
          "min": "8798.593",
          "max": "10057.652025",
          "histogram": [
           {
            "bin_start": 8798.593,
            "bin_end": 8924.498902500001,
            "count": 1
           },
           {
            "bin_start": 8924.498902500001,
            "bin_end": 9050.404805,
            "count": 1
           },
           {
            "bin_start": 9050.404805,
            "bin_end": 9176.3107075,
            "count": 0
           },
           {
            "bin_start": 9176.3107075,
            "bin_end": 9302.21661,
            "count": 1
           },
           {
            "bin_start": 9302.21661,
            "bin_end": 9428.1225125,
            "count": 0
           },
           {
            "bin_start": 9428.1225125,
            "bin_end": 9554.028415,
            "count": 0
           },
           {
            "bin_start": 9554.028415,
            "bin_end": 9679.9343175,
            "count": 0
           },
           {
            "bin_start": 9679.9343175,
            "bin_end": 9805.84022,
            "count": 0
           },
           {
            "bin_start": 9805.84022,
            "bin_end": 9931.746122499999,
            "count": 0
           },
           {
            "bin_start": 9931.746122499999,
            "bin_end": 10057.652025,
            "count": 1
           }
          ]
         }
        },
        {
         "name": "max_charges",
         "dtype": "float64",
         "stats": {
          "unique_count": 4,
          "nan_count": 0,
          "min": "1121.8739",
          "max": "1694.7964",
          "histogram": [
           {
            "bin_start": 1121.8739,
            "bin_end": 1179.16615,
            "count": 1
           },
           {
            "bin_start": 1179.16615,
            "bin_end": 1236.4584,
            "count": 0
           },
           {
            "bin_start": 1236.4584,
            "bin_end": 1293.75065,
            "count": 1
           },
           {
            "bin_start": 1293.75065,
            "bin_end": 1351.0429,
            "count": 0
           },
           {
            "bin_start": 1351.0429,
            "bin_end": 1408.3351499999999,
            "count": 0
           },
           {
            "bin_start": 1408.3351499999999,
            "bin_end": 1465.6273999999999,
            "count": 0
           },
           {
            "bin_start": 1465.6273999999999,
            "bin_end": 1522.91965,
            "count": 0
           },
           {
            "bin_start": 1522.91965,
            "bin_end": 1580.2119,
            "count": 0
           },
           {
            "bin_start": 1580.2119,
            "bin_end": 1637.50415,
            "count": 1
           },
           {
            "bin_start": 1637.50415,
            "bin_end": 1694.7964,
            "count": 1
           }
          ]
         }
        },
        {
         "name": "_deepnote_index_column",
         "dtype": "int64"
        }
       ],
       "rows": [
        {
         "region": "northeast",
         "mean_charges": 13406.3845163858,
         "median_charges": 10057.652025,
         "max_charges": 1694.7964,
         "_deepnote_index_column": 0
        },
        {
         "region": "northwest",
         "mean_charges": 12417.575373969228,
         "median_charges": 8965.79575,
         "max_charges": 1621.3402,
         "_deepnote_index_column": 1
        },
        {
         "region": "southeast",
         "mean_charges": 14735.411437609895,
         "median_charges": 9294.131949999999,
         "max_charges": 1121.8739,
         "_deepnote_index_column": 2
        },
        {
         "region": "southwest",
         "mean_charges": 12346.93737729231,
         "median_charges": 8798.593,
         "max_charges": 1241.565,
         "_deepnote_index_column": 3
        }
       ]
      },
      "text/plain": "      region  mean_charges  median_charges  max_charges\n0  northeast  13406.384516    10057.652025    1694.7964\n1  northwest  12417.575374     8965.795750    1621.3402\n2  southeast  14735.411438     9294.131950    1121.8739\n3  southwest  12346.937377     8798.593000    1241.5650",
      "text/html": "<div>\n<style scoped>\n    .dataframe tbody tr th:only-of-type {\n        vertical-align: middle;\n    }\n\n    .dataframe tbody tr th {\n        vertical-align: top;\n    }\n\n    .dataframe thead th {\n        text-align: right;\n    }\n</style>\n<table border=\"1\" class=\"dataframe\">\n  <thead>\n    <tr style=\"text-align: right;\">\n      <th></th>\n      <th>region</th>\n      <th>mean_charges</th>\n      <th>median_charges</th>\n      <th>max_charges</th>\n    </tr>\n  </thead>\n  <tbody>\n    <tr>\n      <th>0</th>\n      <td>northeast</td>\n      <td>13406.384516</td>\n      <td>10057.652025</td>\n      <td>1694.7964</td>\n    </tr>\n    <tr>\n      <th>1</th>\n      <td>northwest</td>\n      <td>12417.575374</td>\n      <td>8965.795750</td>\n      <td>1621.3402</td>\n    </tr>\n    <tr>\n      <th>2</th>\n      <td>southeast</td>\n      <td>14735.411438</td>\n      <td>9294.131950</td>\n      <td>1121.8739</td>\n    </tr>\n    <tr>\n      <th>3</th>\n      <td>southwest</td>\n      <td>12346.937377</td>\n      <td>8798.593000</td>\n      <td>1241.5650</td>\n    </tr>\n  </tbody>\n</table>\n</div>"
     },
     "metadata": {}
    }
   ]
  },
  {
   "cell_type": "code",
   "metadata": {
    "cell_id": "9dc6c223c1df4f3db5370799cff28dd0",
    "tags": [],
    "deepnote_to_be_reexecuted": false,
    "source_hash": "f1388895",
    "execution_start": 1651848345085,
    "execution_millis": 5,
    "deepnote_cell_type": "code",
    "deepnote_cell_height": 247.609375
   },
   "source": "df.head(1) # checking that the original dataframe is the same as it was and was not affected by the grouping by",
   "execution_count": 12,
   "outputs": [
    {
     "output_type": "execute_result",
     "execution_count": 12,
     "data": {
      "application/vnd.deepnote.dataframe.v3+json": {
       "column_count": 7,
       "row_count": 1,
       "columns": [
        {
         "name": "age",
         "dtype": "int64",
         "stats": {
          "unique_count": 1,
          "nan_count": 0,
          "min": "19",
          "max": "19",
          "histogram": [
           {
            "bin_start": 18.5,
            "bin_end": 18.6,
            "count": 0
           },
           {
            "bin_start": 18.6,
            "bin_end": 18.7,
            "count": 0
           },
           {
            "bin_start": 18.7,
            "bin_end": 18.8,
            "count": 0
           },
           {
            "bin_start": 18.8,
            "bin_end": 18.9,
            "count": 0
           },
           {
            "bin_start": 18.9,
            "bin_end": 19,
            "count": 0
           },
           {
            "bin_start": 19,
            "bin_end": 19.1,
            "count": 1
           },
           {
            "bin_start": 19.1,
            "bin_end": 19.2,
            "count": 0
           },
           {
            "bin_start": 19.2,
            "bin_end": 19.3,
            "count": 0
           },
           {
            "bin_start": 19.3,
            "bin_end": 19.4,
            "count": 0
           },
           {
            "bin_start": 19.4,
            "bin_end": 19.5,
            "count": 0
           }
          ]
         }
        },
        {
         "name": "sex",
         "dtype": "object",
         "stats": {
          "unique_count": 1,
          "nan_count": 0,
          "categories": [
           {
            "name": "female",
            "count": 1
           }
          ]
         }
        },
        {
         "name": "bmi",
         "dtype": "float64",
         "stats": {
          "unique_count": 1,
          "nan_count": 0,
          "min": "27.9",
          "max": "27.9",
          "histogram": [
           {
            "bin_start": 27.4,
            "bin_end": 27.5,
            "count": 0
           },
           {
            "bin_start": 27.5,
            "bin_end": 27.599999999999998,
            "count": 0
           },
           {
            "bin_start": 27.599999999999998,
            "bin_end": 27.7,
            "count": 0
           },
           {
            "bin_start": 27.7,
            "bin_end": 27.799999999999997,
            "count": 0
           },
           {
            "bin_start": 27.799999999999997,
            "bin_end": 27.9,
            "count": 0
           },
           {
            "bin_start": 27.9,
            "bin_end": 28,
            "count": 1
           },
           {
            "bin_start": 28,
            "bin_end": 28.099999999999998,
            "count": 0
           },
           {
            "bin_start": 28.099999999999998,
            "bin_end": 28.2,
            "count": 0
           },
           {
            "bin_start": 28.2,
            "bin_end": 28.299999999999997,
            "count": 0
           },
           {
            "bin_start": 28.299999999999997,
            "bin_end": 28.4,
            "count": 0
           }
          ]
         }
        },
        {
         "name": "children",
         "dtype": "int64",
         "stats": {
          "unique_count": 1,
          "nan_count": 0,
          "min": "0",
          "max": "0",
          "histogram": [
           {
            "bin_start": -0.5,
            "bin_end": -0.4,
            "count": 0
           },
           {
            "bin_start": -0.4,
            "bin_end": -0.3,
            "count": 0
           },
           {
            "bin_start": -0.3,
            "bin_end": -0.19999999999999996,
            "count": 0
           },
           {
            "bin_start": -0.19999999999999996,
            "bin_end": -0.09999999999999998,
            "count": 0
           },
           {
            "bin_start": -0.09999999999999998,
            "bin_end": 0,
            "count": 0
           },
           {
            "bin_start": 0,
            "bin_end": 0.10000000000000009,
            "count": 1
           },
           {
            "bin_start": 0.10000000000000009,
            "bin_end": 0.20000000000000007,
            "count": 0
           },
           {
            "bin_start": 0.20000000000000007,
            "bin_end": 0.30000000000000004,
            "count": 0
           },
           {
            "bin_start": 0.30000000000000004,
            "bin_end": 0.4,
            "count": 0
           },
           {
            "bin_start": 0.4,
            "bin_end": 0.5,
            "count": 0
           }
          ]
         }
        },
        {
         "name": "smoker",
         "dtype": "object",
         "stats": {
          "unique_count": 1,
          "nan_count": 0,
          "categories": [
           {
            "name": "yes",
            "count": 1
           }
          ]
         }
        },
        {
         "name": "region",
         "dtype": "object",
         "stats": {
          "unique_count": 1,
          "nan_count": 0,
          "categories": [
           {
            "name": "southwest",
            "count": 1
           }
          ]
         }
        },
        {
         "name": "charges",
         "dtype": "float64",
         "stats": {
          "unique_count": 1,
          "nan_count": 0,
          "min": "16884.924",
          "max": "16884.924",
          "histogram": [
           {
            "bin_start": 16884.424,
            "bin_end": 16884.523999999998,
            "count": 0
           },
           {
            "bin_start": 16884.523999999998,
            "bin_end": 16884.624,
            "count": 0
           },
           {
            "bin_start": 16884.624,
            "bin_end": 16884.724,
            "count": 0
           },
           {
            "bin_start": 16884.724,
            "bin_end": 16884.824,
            "count": 0
           },
           {
            "bin_start": 16884.824,
            "bin_end": 16884.924,
            "count": 0
           },
           {
            "bin_start": 16884.924,
            "bin_end": 16885.023999999998,
            "count": 1
           },
           {
            "bin_start": 16885.023999999998,
            "bin_end": 16885.124,
            "count": 0
           },
           {
            "bin_start": 16885.124,
            "bin_end": 16885.224,
            "count": 0
           },
           {
            "bin_start": 16885.224,
            "bin_end": 16885.324,
            "count": 0
           },
           {
            "bin_start": 16885.324,
            "bin_end": 16885.424,
            "count": 0
           }
          ]
         }
        },
        {
         "name": "_deepnote_index_column",
         "dtype": "int64"
        }
       ],
       "rows": [
        {
         "age": 19,
         "sex": "female",
         "bmi": 27.9,
         "children": 0,
         "smoker": "yes",
         "region": "southwest",
         "charges": 16884.924,
         "_deepnote_index_column": 0
        }
       ]
      },
      "text/plain": "   age     sex   bmi  children smoker     region    charges\n0   19  female  27.9         0    yes  southwest  16884.924",
      "text/html": "<div>\n<style scoped>\n    .dataframe tbody tr th:only-of-type {\n        vertical-align: middle;\n    }\n\n    .dataframe tbody tr th {\n        vertical-align: top;\n    }\n\n    .dataframe thead th {\n        text-align: right;\n    }\n</style>\n<table border=\"1\" class=\"dataframe\">\n  <thead>\n    <tr style=\"text-align: right;\">\n      <th></th>\n      <th>age</th>\n      <th>sex</th>\n      <th>bmi</th>\n      <th>children</th>\n      <th>smoker</th>\n      <th>region</th>\n      <th>charges</th>\n    </tr>\n  </thead>\n  <tbody>\n    <tr>\n      <th>0</th>\n      <td>19</td>\n      <td>female</td>\n      <td>27.9</td>\n      <td>0</td>\n      <td>yes</td>\n      <td>southwest</td>\n      <td>16884.924</td>\n    </tr>\n  </tbody>\n</table>\n</div>"
     },
     "metadata": {}
    }
   ]
  },
  {
   "cell_type": "code",
   "metadata": {
    "cell_id": "59eebe43f649442b98313fa954b18045",
    "tags": [],
    "deepnote_to_be_reexecuted": false,
    "source_hash": "4f5b5091",
    "execution_start": 1651848345086,
    "execution_millis": 708,
    "deepnote_cell_type": "code",
    "deepnote_cell_height": 488.953125,
    "deepnote_output_heights": [
     265.984375
    ]
   },
   "source": "import matplotlib.pyplot as plt\nfig = plt.figure()\nx = grouped_df['region']\ny = grouped_df['median_charges']\ncolors = [ 'olive', 'royalblue', 'gold','coral']\nplt.bar(x,y, color = colors)\nplt.title(\"Median Insurance Charges by Region\")\nplt.show()",
   "execution_count": 13,
   "outputs": [
    {
     "data": {
      "text/plain": "<Figure size 432x288 with 1 Axes>",
      "image/png": "[encoded data removed]"
     },
     "metadata": {
      "needs_background": "light",
      "image/png": {
       "width": 387,
       "height": 264
      }
     },
     "output_type": "display_data"
    }
   ]
  },
  {
   "cell_type": "code",
   "metadata": {
    "cell_id": "d127418bddc648258abd3e42441c2c96",
    "tags": [],
    "deepnote_to_be_reexecuted": false,
    "source_hash": "4d2c0cc5",
    "execution_start": 1651848345269,
    "execution_millis": 568,
    "deepnote_cell_type": "code",
    "deepnote_cell_height": 488.953125,
    "deepnote_output_heights": [
     265.984375
    ]
   },
   "source": "import matplotlib.pyplot as plt\nfig = plt.figure()\nx = grouped_df['region']\ny = grouped_df['max_charges']\ncolors = [ 'RebeccaPurple', 'LightSteelBlue', 'Orange','coral']\nplt.bar(x,y, color = colors)\nplt.title(\"Maximum Insurance Charges by Region\")\nplt.show()",
   "execution_count": 14,
   "outputs": [
    {
     "data": {
      "text/plain": "<Figure size 432x288 with 1 Axes>",
      "image/png": "[encoded data removed]"
     },
     "metadata": {
      "needs_background": "light",
      "image/png": {
       "width": 381,
       "height": 264
      }
     },
     "output_type": "display_data"
    }
   ]
  },
  {
   "cell_type": "code",
   "metadata": {
    "cell_id": "9feb2ef3e3de49f79883d043bcfeefc3",
    "tags": [],
    "deepnote_to_be_reexecuted": false,
    "source_hash": "de5de266",
    "execution_start": 1651848345488,
    "execution_millis": 2919,
    "deepnote_cell_type": "code",
    "deepnote_cell_height": 470.953125,
    "deepnote_output_heights": [
     265.984375
    ]
   },
   "source": "fig = plt.figure()\nx = df['region']\ny = df['bmi']\ncolors = ['Plum', 'Teal']\nplt.bar(x,y, color = colors)\nplt.title(\"BMI Insurance Charges by Region\")\nplt.show()",
   "execution_count": 15,
   "outputs": [
    {
     "data": {
      "text/plain": "<Figure size 432x288 with 1 Axes>",
      "image/png": "[encoded data removed]"
     },
     "metadata": {
      "needs_background": "light",
      "image/png": {
       "width": 368,
       "height": 264
      }
     },
     "output_type": "display_data"
    }
   ]
  },
  {
   "cell_type": "code",
   "metadata": {
    "cell_id": "cec5cbc64a3543c79d74ce8766b540e7",
    "tags": [],
    "deepnote_to_be_reexecuted": false,
    "source_hash": "2e67205c",
    "execution_start": 1651848347949,
    "execution_millis": 2332,
    "deepnote_cell_type": "code",
    "deepnote_cell_height": 470.96875,
    "deepnote_output_heights": [
     265.984375
    ]
   },
   "source": "fig = plt.figure()\nx = df['sex']\ny = df['bmi']\ncolor = ['Pink', 'Blue']\nplt.bar(x,y, color = colors)\nplt.title(\"Genders with Highes BMI Level\")\nplt.show()",
   "execution_count": 16,
   "outputs": [
    {
     "data": {
      "text/plain": "<Figure size 432x288 with 1 Axes>",
      "image/png": "[encoded data removed]"
     },
     "metadata": {
      "needs_background": "light",
      "image/png": {
       "width": 368,
       "height": 264
      }
     },
     "output_type": "display_data"
    }
   ]
  },
  {
   "cell_type": "code",
   "metadata": {
    "cell_id": "ea7ffd3d75464bc695199bd2dbdbc4be",
    "tags": [],
    "deepnote_to_be_reexecuted": false,
    "source_hash": "9d9c596f",
    "execution_start": 1651848350329,
    "execution_millis": 3596,
    "deepnote_cell_type": "code",
    "deepnote_cell_height": 470.953125,
    "deepnote_output_heights": [
     265.984375
    ]
   },
   "source": "fig = plt.figure()\nx = df['region']\ny = df['charges']\ncolors = ['LightSteelBlue','Goldenrod']\nplt.bar(x,y, color = colors)\nplt.title(\"Number of Children with BMI Levels\")\nplt.show()",
   "execution_count": 17,
   "outputs": [
    {
     "data": {
      "text/plain": "<Figure size 432x288 with 1 Axes>",
      "image/png": "[encoded data removed]"
     },
     "metadata": {
      "needs_background": "light",
      "image/png": {
       "width": 387,
       "height": 264
      }
     },
     "output_type": "display_data"
    }
   ]
  },
  {
   "cell_type": "code",
   "metadata": {
    "cell_id": "b022c06aeacc4690825e7480aa61d114",
    "tags": [],
    "deepnote_to_be_reexecuted": false,
    "source_hash": "19035541",
    "execution_start": 1651848352700,
    "execution_millis": 1444,
    "deepnote_cell_type": "code",
    "deepnote_cell_height": 372.953125,
    "deepnote_output_heights": [
     275.984375
    ]
   },
   "source": "df['charges'].hist(bins=20, xrot=100);",
   "execution_count": 18,
   "outputs": [
    {
     "data": {
      "text/plain": "<Figure size 432x288 with 1 Axes>",
      "image/png": "[encoded data removed]"
     },
     "metadata": {
      "needs_background": "light",
      "image/png": {
       "width": 375,
       "height": 274
      }
     },
     "output_type": "display_data"
    }
   ]
  },
  {
   "cell_type": "code",
   "metadata": {
    "cell_id": "c931453e46b64110b1974c8ef64ea5ae",
    "tags": [],
    "deepnote_to_be_reexecuted": false,
    "source_hash": "589a481b",
    "execution_start": 1651848352933,
    "execution_millis": 1891,
    "deepnote_cell_type": "code",
    "deepnote_cell_height": 346.953125,
    "deepnote_output_heights": [
     249.984375
    ]
   },
   "source": "df['age'].hist(); ",
   "execution_count": 19,
   "outputs": [
    {
     "data": {
      "text/plain": "<Figure size 432x288 with 1 Axes>",
      "image/png": "[encoded data removed]"
     },
     "metadata": {
      "needs_background": "light",
      "image/png": {
       "width": 375,
       "height": 248
      }
     },
     "output_type": "display_data"
    }
   ]
  },
  {
   "cell_type": "code",
   "metadata": {
    "cell_id": "ddd1106dcf934fa588aa2bdacc60bc14",
    "tags": [],
    "deepnote_to_be_reexecuted": false,
    "source_hash": "6444d89c",
    "execution_start": 1651848353133,
    "execution_millis": 1895,
    "deepnote_cell_type": "code",
    "deepnote_cell_height": 346.953125,
    "deepnote_output_heights": [
     249.984375
    ]
   },
   "source": "df['smoker'].hist();",
   "execution_count": 20,
   "outputs": [
    {
     "data": {
      "text/plain": "<Figure size 432x288 with 1 Axes>",
      "image/png": "[encoded data removed]"
     },
     "metadata": {
      "needs_background": "light",
      "image/png": {
       "width": 381,
       "height": 248
      }
     },
     "output_type": "display_data"
    }
   ]
  },
  {
   "cell_type": "code",
   "metadata": {
    "cell_id": "6ecaa3d5f52345e3a817c040b148ecf7",
    "tags": [],
    "deepnote_to_be_reexecuted": false,
    "source_hash": "6fa3f132",
    "execution_start": 1651848353279,
    "execution_millis": 2331,
    "deepnote_cell_type": "code",
    "deepnote_cell_height": 402.125,
    "deepnote_output_heights": [
     21.1875,
     252.984375
    ]
   },
   "source": "df['children'].hist()",
   "execution_count": 21,
   "outputs": [
    {
     "output_type": "execute_result",
     "execution_count": 21,
     "data": {
      "text/plain": "<AxesSubplot:>"
     },
     "metadata": {}
    },
    {
     "data": {
      "text/plain": "<Figure size 432x288 with 1 Axes>",
      "image/png": "[encoded data removed]"
     },
     "metadata": {
      "needs_background": "light",
      "image/png": {
       "width": 375,
       "height": 251
      }
     },
     "output_type": "display_data"
    }
   ]
  },
  {
   "cell_type": "code",
   "metadata": {
    "cell_id": "614d2cd6d63743e5b39f46742ca162d9",
    "tags": [],
    "deepnote_to_be_reexecuted": false,
    "source_hash": "82f0130e",
    "execution_start": 1651848353509,
    "execution_millis": 1,
    "deepnote_cell_type": "code",
    "deepnote_cell_height": 616.59375
   },
   "source": "df[df['region']=='northwest']",
   "execution_count": 22,
   "outputs": [
    {
     "output_type": "execute_result",
     "execution_count": 22,
     "data": {
      "application/vnd.deepnote.dataframe.v3+json": {
       "column_count": 7,
       "row_count": 325,
       "columns": [
        {
         "name": "age",
         "dtype": "int64",
         "stats": {
          "unique_count": 46,
          "nan_count": 0,
          "min": "19",
          "max": "64",
          "histogram": [
           {
            "bin_start": 19,
            "bin_end": 23.5,
            "count": 62
           },
           {
            "bin_start": 23.5,
            "bin_end": 28,
            "count": 27
           },
           {
            "bin_start": 28,
            "bin_end": 32.5,
            "count": 33
           },
           {
            "bin_start": 32.5,
            "bin_end": 37,
            "count": 24
           },
           {
            "bin_start": 37,
            "bin_end": 41.5,
            "count": 33
           },
           {
            "bin_start": 41.5,
            "bin_end": 46,
            "count": 25
           },
           {
            "bin_start": 46,
            "bin_end": 50.5,
            "count": 34
           },
           {
            "bin_start": 50.5,
            "bin_end": 55,
            "count": 28
           },
           {
            "bin_start": 55,
            "bin_end": 59.5,
            "count": 31
           },
           {
            "bin_start": 59.5,
            "bin_end": 64,
            "count": 28
           }
          ]
         }
        },
        {
         "name": "sex",
         "dtype": "object",
         "stats": {
          "unique_count": 2,
          "nan_count": 0,
          "categories": [
           {
            "name": "female",
            "count": 164
           },
           {
            "name": "male",
            "count": 161
           }
          ]
         }
        },
        {
         "name": "bmi",
         "dtype": "float64",
         "stats": {
          "unique_count": 166,
          "nan_count": 0,
          "min": "17.385",
          "max": "42.94",
          "histogram": [
           {
            "bin_start": 17.385,
            "bin_end": 19.9405,
            "count": 11
           },
           {
            "bin_start": 19.9405,
            "bin_end": 22.496000000000002,
            "count": 19
           },
           {
            "bin_start": 22.496000000000002,
            "bin_end": 25.0515,
            "count": 40
           },
           {
            "bin_start": 25.0515,
            "bin_end": 27.607,
            "count": 50
           },
           {
            "bin_start": 27.607,
            "bin_end": 30.162499999999998,
            "count": 64
           },
           {
            "bin_start": 30.162499999999998,
            "bin_end": 32.717999999999996,
            "count": 59
           },
           {
            "bin_start": 32.717999999999996,
            "bin_end": 35.2735,
            "count": 40
           },
           {
            "bin_start": 35.2735,
            "bin_end": 37.82899999999999,
            "count": 29
           },
           {
            "bin_start": 37.82899999999999,
            "bin_end": 40.384499999999996,
            "count": 7
           },
           {
            "bin_start": 40.384499999999996,
            "bin_end": 42.94,
            "count": 6
           }
          ]
         }
        },
        {
         "name": "children",
         "dtype": "int64",
         "stats": {
          "unique_count": 6,
          "nan_count": 0,
          "min": "0",
          "max": "5",
          "histogram": [
           {
            "bin_start": 0,
            "bin_end": 0.5,
            "count": 132
           },
           {
            "bin_start": 0.5,
            "bin_end": 1,
            "count": 0
           },
           {
            "bin_start": 1,
            "bin_end": 1.5,
            "count": 74
           },
           {
            "bin_start": 1.5,
            "bin_end": 2,
            "count": 0
           },
           {
            "bin_start": 2,
            "bin_end": 2.5,
            "count": 66
           },
           {
            "bin_start": 2.5,
            "bin_end": 3,
            "count": 0
           },
           {
            "bin_start": 3,
            "bin_end": 3.5,
            "count": 46
           },
           {
            "bin_start": 3.5,
            "bin_end": 4,
            "count": 0
           },
           {
            "bin_start": 4,
            "bin_end": 4.5,
            "count": 6
           },
           {
            "bin_start": 4.5,
            "bin_end": 5,
            "count": 1
           }
          ]
         }
        },
        {
         "name": "smoker",
         "dtype": "object",
         "stats": {
          "unique_count": 2,
          "nan_count": 0,
          "categories": [
           {
            "name": "no",
            "count": 267
           },
           {
            "name": "yes",
            "count": 58
           }
          ]
         }
        },
        {
         "name": "region",
         "dtype": "object",
         "stats": {
          "unique_count": 1,
          "nan_count": 0,
          "categories": [
           {
            "name": "northwest",
            "count": 325
           }
          ]
         }
        },
        {
         "name": "charges",
         "dtype": "float64",
         "stats": {
          "unique_count": 324,
          "nan_count": 0,
          "min": "1621.3402",
          "max": "60021.39897",
          "histogram": [
           {
            "bin_start": 1621.3402,
            "bin_end": 7461.346077,
            "count": 140
           },
           {
            "bin_start": 7461.346077,
            "bin_end": 13301.351954000002,
            "count": 89
           },
           {
            "bin_start": 13301.351954000002,
            "bin_end": 19141.357831,
            "count": 33
           },
           {
            "bin_start": 19141.357831,
            "bin_end": 24981.363708,
            "count": 22
           },
           {
            "bin_start": 24981.363708,
            "bin_end": 30821.369585,
            "count": 15
           },
           {
            "bin_start": 30821.369585,
            "bin_end": 36661.375462,
            "count": 7
           },
           {
            "bin_start": 36661.375462,
            "bin_end": 42501.381339,
            "count": 7
           },
           {
            "bin_start": 42501.381339,
            "bin_end": 48341.387216,
            "count": 10
           },
           {
            "bin_start": 48341.387216,
            "bin_end": 54181.393093000006,
            "count": 0
           },
           {
            "bin_start": 54181.393093000006,
            "bin_end": 60021.39897,
            "count": 2
           }
          ]
         }
        },
        {
         "name": "_deepnote_index_column",
         "dtype": "int64"
        }
       ],
       "rows": [
        {
         "age": 33,
         "sex": "male",
         "bmi": 22.705,
         "children": 0,
         "smoker": "no",
         "region": "northwest",
         "charges": 21984.47061,
         "_deepnote_index_column": 3
        },
        {
         "age": 32,
         "sex": "male",
         "bmi": 28.88,
         "children": 0,
         "smoker": "no",
         "region": "northwest",
         "charges": 3866.8552,
         "_deepnote_index_column": 4
        },
        {
         "age": 37,
         "sex": "female",
         "bmi": 27.74,
         "children": 3,
         "smoker": "no",
         "region": "northwest",
         "charges": 7281.5056,
         "_deepnote_index_column": 7
        },
        {
         "age": 60,
         "sex": "female",
         "bmi": 25.84,
         "children": 0,
         "smoker": "no",
         "region": "northwest",
         "charges": 28923.13692,
         "_deepnote_index_column": 9
        },
        {
         "age": 37,
         "sex": "male",
         "bmi": 28.025,
         "children": 2,
         "smoker": "no",
         "region": "northwest",
         "charges": 6203.90175,
         "_deepnote_index_column": 24
        },
        {
         "age": 55,
         "sex": "female",
         "bmi": 32.775,
         "children": 2,
         "smoker": "no",
         "region": "northwest",
         "charges": 12268.63225,
         "_deepnote_index_column": 27
        },
        {
         "age": 23,
         "sex": "male",
         "bmi": 17.385,
         "children": 1,
         "smoker": "no",
         "region": "northwest",
         "charges": 2775.19215,
         "_deepnote_index_column": 28
        },
        {
         "age": 63,
         "sex": "male",
         "bmi": 28.31,
         "children": 0,
         "smoker": "no",
         "region": "northwest",
         "charges": 13770.0979,
         "_deepnote_index_column": 33
        },
        {
         "age": 19,
         "sex": "male",
         "bmi": 20.425,
         "children": 0,
         "smoker": "no",
         "region": "northwest",
         "charges": 1625.43375,
         "_deepnote_index_column": 35
        },
        {
         "age": 62,
         "sex": "female",
         "bmi": 32.965,
         "children": 3,
         "smoker": "no",
         "region": "northwest",
         "charges": 15612.19335,
         "_deepnote_index_column": 36
        }
       ]
      },
      "text/plain": "      age     sex     bmi  children smoker     region      charges\n3      33    male  22.705         0     no  northwest  21984.47061\n4      32    male  28.880         0     no  northwest   3866.85520\n7      37  female  27.740         3     no  northwest   7281.50560\n9      60  female  25.840         0     no  northwest  28923.13692\n24     37    male  28.025         2     no  northwest   6203.90175\n...   ...     ...     ...       ...    ...        ...          ...\n1319   39  female  26.315         2     no  northwest   7201.70085\n1320   31    male  31.065         3     no  northwest   5425.02335\n1324   31    male  25.935         1     no  northwest   4239.89265\n1333   50    male  30.970         3     no  northwest  10600.54830\n1337   61  female  29.070         0    yes  northwest  29141.36030\n\n[325 rows x 7 columns]",
      "text/html": "<div>\n<style scoped>\n    .dataframe tbody tr th:only-of-type {\n        vertical-align: middle;\n    }\n\n    .dataframe tbody tr th {\n        vertical-align: top;\n    }\n\n    .dataframe thead th {\n        text-align: right;\n    }\n</style>\n<table border=\"1\" class=\"dataframe\">\n  <thead>\n    <tr style=\"text-align: right;\">\n      <th></th>\n      <th>age</th>\n      <th>sex</th>\n      <th>bmi</th>\n      <th>children</th>\n      <th>smoker</th>\n      <th>region</th>\n      <th>charges</th>\n    </tr>\n  </thead>\n  <tbody>\n    <tr>\n      <th>3</th>\n      <td>33</td>\n      <td>male</td>\n      <td>22.705</td>\n      <td>0</td>\n      <td>no</td>\n      <td>northwest</td>\n      <td>21984.47061</td>\n    </tr>\n    <tr>\n      <th>4</th>\n      <td>32</td>\n      <td>male</td>\n      <td>28.880</td>\n      <td>0</td>\n      <td>no</td>\n      <td>northwest</td>\n      <td>3866.85520</td>\n    </tr>\n    <tr>\n      <th>7</th>\n      <td>37</td>\n      <td>female</td>\n      <td>27.740</td>\n      <td>3</td>\n      <td>no</td>\n      <td>northwest</td>\n      <td>7281.50560</td>\n    </tr>\n    <tr>\n      <th>9</th>\n      <td>60</td>\n      <td>female</td>\n      <td>25.840</td>\n      <td>0</td>\n      <td>no</td>\n      <td>northwest</td>\n      <td>28923.13692</td>\n    </tr>\n    <tr>\n      <th>24</th>\n      <td>37</td>\n      <td>male</td>\n      <td>28.025</td>\n      <td>2</td>\n      <td>no</td>\n      <td>northwest</td>\n      <td>6203.90175</td>\n    </tr>\n    <tr>\n      <th>...</th>\n      <td>...</td>\n      <td>...</td>\n      <td>...</td>\n      <td>...</td>\n      <td>...</td>\n      <td>...</td>\n      <td>...</td>\n    </tr>\n    <tr>\n      <th>1319</th>\n      <td>39</td>\n      <td>female</td>\n      <td>26.315</td>\n      <td>2</td>\n      <td>no</td>\n      <td>northwest</td>\n      <td>7201.70085</td>\n    </tr>\n    <tr>\n      <th>1320</th>\n      <td>31</td>\n      <td>male</td>\n      <td>31.065</td>\n      <td>3</td>\n      <td>no</td>\n      <td>northwest</td>\n      <td>5425.02335</td>\n    </tr>\n    <tr>\n      <th>1324</th>\n      <td>31</td>\n      <td>male</td>\n      <td>25.935</td>\n      <td>1</td>\n      <td>no</td>\n      <td>northwest</td>\n      <td>4239.89265</td>\n    </tr>\n    <tr>\n      <th>1333</th>\n      <td>50</td>\n      <td>male</td>\n      <td>30.970</td>\n      <td>3</td>\n      <td>no</td>\n      <td>northwest</td>\n      <td>10600.54830</td>\n    </tr>\n    <tr>\n      <th>1337</th>\n      <td>61</td>\n      <td>female</td>\n      <td>29.070</td>\n      <td>0</td>\n      <td>yes</td>\n      <td>northwest</td>\n      <td>29141.36030</td>\n    </tr>\n  </tbody>\n</table>\n<p>325 rows × 7 columns</p>\n</div>"
     },
     "metadata": {}
    }
   ]
  },
  {
   "cell_type": "code",
   "metadata": {
    "cell_id": "b854108376974982bd4d46bf99ecac4f",
    "tags": [],
    "deepnote_to_be_reexecuted": false,
    "source_hash": "5d4556f3",
    "execution_start": 1651848353517,
    "execution_millis": 2262,
    "deepnote_cell_type": "code",
    "deepnote_cell_height": 362.953125,
    "deepnote_output_heights": [
     265.984375
    ]
   },
   "source": "df.hist();",
   "execution_count": 23,
   "outputs": [
    {
     "data": {
      "text/plain": "<Figure size 432x288 with 4 Axes>",
      "image/png": "[encoded data removed]"
     },
     "metadata": {
      "needs_background": "light",
      "image/png": {
       "width": 376,
       "height": 264
      }
     },
     "output_type": "display_data"
    }
   ]
  },
  {
   "cell_type": "markdown",
   "source": "## Statistical hypothesis testing\n",
   "metadata": {
    "cell_id": "3d010bc32a344cd0b00dfd9472210921",
    "tags": [],
    "deepnote_cell_type": "markdown",
    "deepnote_cell_height": 69.96875
   }
  },
  {
   "cell_type": "code",
   "metadata": {
    "cell_id": "d0d17233f64c49659c544354f68196b2",
    "tags": [],
    "deepnote_to_be_reexecuted": false,
    "source_hash": "60cd5947",
    "execution_start": 1651848353969,
    "execution_millis": 1,
    "deepnote_cell_type": "code",
    "deepnote_cell_height": 80.96875
   },
   "source": "rand_num = np.random.randint(0,10) #generates a random integer",
   "execution_count": 24,
   "outputs": []
  },
  {
   "cell_type": "code",
   "metadata": {
    "cell_id": "e3cb58edb6914c6d8b882313e1cba09d",
    "tags": [],
    "deepnote_to_be_reexecuted": false,
    "source_hash": "a13e76ba",
    "execution_start": 1651848353972,
    "execution_millis": 1808,
    "deepnote_cell_type": "code",
    "deepnote_cell_height": 118.15625,
    "deepnote_output_heights": [
     21.1875
    ]
   },
   "source": "np.array",
   "execution_count": 25,
   "outputs": [
    {
     "output_type": "execute_result",
     "execution_count": 25,
     "data": {
      "text/plain": "<function numpy.array>"
     },
     "metadata": {}
    }
   ]
  },
  {
   "cell_type": "code",
   "metadata": {
    "cell_id": "b9e3d0bf12f940bd97f1d40eba076661",
    "tags": [],
    "deepnote_to_be_reexecuted": false,
    "source_hash": "dae8e34d",
    "execution_start": 1651848353997,
    "execution_millis": 1,
    "deepnote_cell_type": "code",
    "deepnote_cell_height": 80.96875
   },
   "source": "array_from_range = np.arange(0,100) # one liner to make an array from a range",
   "execution_count": 26,
   "outputs": []
  },
  {
   "cell_type": "code",
   "metadata": {
    "cell_id": "786aca270138473595368b046ceb22a1",
    "tags": [],
    "deepnote_to_be_reexecuted": false,
    "source_hash": "b623e53d",
    "execution_start": 1651848353998,
    "execution_millis": 1,
    "deepnote_cell_type": "code",
    "deepnote_cell_height": 80.96875
   },
   "source": "",
   "execution_count": 26,
   "outputs": []
  },
  {
   "cell_type": "markdown",
   "source": "## Statistical Modeling",
   "metadata": {
    "cell_id": "a995efcf165a41b28e3607b4db1c0688",
    "tags": [],
    "deepnote_cell_type": "markdown",
    "deepnote_cell_height": 69.96875
   }
  },
  {
   "cell_type": "code",
   "metadata": {
    "cell_id": "fb9ee3114c0b489e8635ea21fd55705a",
    "tags": [],
    "deepnote_to_be_reexecuted": false,
    "source_hash": "b623e53d",
    "execution_start": 1651848353999,
    "execution_millis": 0,
    "deepnote_cell_type": "code",
    "deepnote_cell_height": 80.96875
   },
   "source": "",
   "execution_count": 26,
   "outputs": []
  },
  {
   "cell_type": "markdown",
   "source": "## Linear Regression",
   "metadata": {
    "cell_id": "d9c9a5b8298e4da6a77d2bcfdbefd311",
    "tags": [],
    "deepnote_cell_type": "markdown",
    "deepnote_cell_height": 69.96875
   }
  },
  {
   "cell_type": "code",
   "metadata": {
    "cell_id": "947d1547c9ad4e8e99247498e2acde81",
    "tags": [],
    "deepnote_to_be_reexecuted": false,
    "source_hash": "b623e53d",
    "execution_start": 1651848354000,
    "execution_millis": 1,
    "deepnote_cell_type": "code",
    "deepnote_cell_height": 80.96875
   },
   "source": "",
   "execution_count": 26,
   "outputs": []
  },
  {
   "cell_type": "markdown",
   "source": "<a style='text-decoration:none;line-height:16px;display:flex;color:#5B5B62;padding:10px;justify-content:end;' href='https://deepnote.com?utm_source=created-in-deepnote-cell&projectId=04eeb7cc-c014-42cc-9688-959f70fd96bb' target=\"_blank\">\n<img alt='Created in deepnote.com' style='display:inline;max-height:16px;margin:0px;margin-right:7.5px;' src='data:image/svg+xml;base64,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' > </img>\nCreated in <span style='font-weight:600;margin-left:4px;'>Deepnote</span></a>",
   "metadata": {
    "tags": [],
    "created_in_deepnote_cell": true,
    "deepnote_cell_type": "markdown"
   }
  }
 ],
 "nbformat": 4,
 "nbformat_minor": 2,
 "metadata": {
  "orig_nbformat": 2,
  "deepnote": {},
  "deepnote_notebook_id": "2339874e-6dc7-4b2e-971b-6ede915270f6",
  "deepnote_execution_queue": []
 }
}